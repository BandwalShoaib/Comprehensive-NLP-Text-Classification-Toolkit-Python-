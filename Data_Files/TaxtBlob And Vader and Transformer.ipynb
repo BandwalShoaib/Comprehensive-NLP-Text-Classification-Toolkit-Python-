{
 "cells": [
  {
   "cell_type": "code",
   "execution_count": 1,
   "id": "47ac1fc6-9b23-40d8-8f95-e238bc62f684",
   "metadata": {},
   "outputs": [],
   "source": [
    "from textblob import TextBlob\n",
    "from vaderSentiment.vaderSentiment import SentimentIntensityAnalyzer"
   ]
  },
  {
   "cell_type": "code",
   "execution_count": 6,
   "id": "0792b1ea-d72b-460d-bf51-d6f36639ca63",
   "metadata": {},
   "outputs": [],
   "source": [
    "sent = \" She is so ugly\"\n",
    "sent1 = \"She is not fair but is so adorable\"\n",
    "sent2 =  \"i am wearing a jacket\""
   ]
  },
  {
   "cell_type": "code",
   "execution_count": 3,
   "id": "79614eaa-0752-487b-a30f-2e842974f9d5",
   "metadata": {},
   "outputs": [
    {
     "name": "stdout",
     "output_type": "stream",
     "text": [
      " She is so ugly\n",
      "-0.7\n"
     ]
    }
   ],
   "source": [
    "print(sent)\n",
    "sentiment_score = TextBlob(sent)\n",
    "print(sentiment_score.sentiment.polarity)"
   ]
  },
  {
   "cell_type": "code",
   "execution_count": 4,
   "id": "5ab200a5-b72c-49e5-b51e-c8b8ae2c6198",
   "metadata": {},
   "outputs": [
    {
     "name": "stdout",
     "output_type": "stream",
     "text": [
      "She is not fair but is so adorable\n",
      "0.07500000000000001\n"
     ]
    }
   ],
   "source": [
    "print(sent1)\n",
    "sentiment_score = TextBlob(sent1)\n",
    "print(sentiment_score.sentiment.polarity)"
   ]
  },
  {
   "cell_type": "code",
   "execution_count": 7,
   "id": "3336f709-3309-47a0-8894-3279017dc1c5",
   "metadata": {},
   "outputs": [
    {
     "name": "stdout",
     "output_type": "stream",
     "text": [
      "i am wearing a jacket\n",
      "0.0\n"
     ]
    }
   ],
   "source": [
    "print(sent2)\n",
    "sentiment_score = TextBlob(sent2)\n",
    "print(sentiment_score.sentiment.polarity)"
   ]
  },
  {
   "cell_type": "code",
   "execution_count": 11,
   "id": "71439976-553a-486a-b826-91d0149932a1",
   "metadata": {},
   "outputs": [
    {
     "name": "stdout",
     "output_type": "stream",
     "text": [
      " She is so ugly\n",
      "{'neg': 0.586, 'neu': 0.414, 'pos': 0.0, 'compound': -0.6418}\n"
     ]
    }
   ],
   "source": [
    "vader_sentiment = SentimentIntensityAnalyzer()\n",
    "print(sent)\n",
    "print(vader_sentiment.polarity_scores(sent))"
   ]
  },
  {
   "cell_type": "code",
   "execution_count": 12,
   "id": "fc7fc1c7-6eeb-4d2e-9a8d-fc95502eb665",
   "metadata": {},
   "outputs": [
    {
     "name": "stdout",
     "output_type": "stream",
     "text": [
      "She is not fair but is so adorable\n",
      "{'neg': 0.113, 'neu': 0.456, 'pos': 0.431, 'compound': 0.7346}\n"
     ]
    }
   ],
   "source": [
    "vader_sentiment = SentimentIntensityAnalyzer()\n",
    "print(sent1)\n",
    "print(vader_sentiment.polarity_scores(sent1))"
   ]
  },
  {
   "cell_type": "code",
   "execution_count": 15,
   "id": "dbc30774-b805-454d-99ec-de1675fd31ac",
   "metadata": {},
   "outputs": [],
   "source": [
    "import transformers\n",
    "from transformers import pipeline"
   ]
  },
  {
   "cell_type": "code",
   "execution_count": 16,
   "id": "e480272d-49cc-4030-8ece-61cd3ae785e8",
   "metadata": {},
   "outputs": [
    {
     "name": "stderr",
     "output_type": "stream",
     "text": [
      "No model was supplied, defaulted to distilbert/distilbert-base-uncased-finetuned-sst-2-english and revision 714eb0f (https://huggingface.co/distilbert/distilbert-base-uncased-finetuned-sst-2-english).\n",
      "Using a pipeline without specifying a model name and revision in production is not recommended.\n"
     ]
    },
    {
     "data": {
      "application/vnd.jupyter.widget-view+json": {
       "model_id": "7cb4d6f4a01742a8b524d42ef4a772f2",
       "version_major": 2,
       "version_minor": 0
      },
      "text/plain": [
       "config.json:   0%|          | 0.00/629 [00:00<?, ?B/s]"
      ]
     },
     "metadata": {},
     "output_type": "display_data"
    },
    {
     "name": "stderr",
     "output_type": "stream",
     "text": [
      "D:\\Anaconda\\envs\\nlp_course_env\\Lib\\site-packages\\huggingface_hub\\file_download.py:143: UserWarning: `huggingface_hub` cache-system uses symlinks by default to efficiently store duplicated files but your machine does not support them in C:\\Users\\ADMIN\\.cache\\huggingface\\hub\\models--distilbert--distilbert-base-uncased-finetuned-sst-2-english. Caching files will still work but in a degraded version that might require more space on your disk. This warning can be disabled by setting the `HF_HUB_DISABLE_SYMLINKS_WARNING` environment variable. For more details, see https://huggingface.co/docs/huggingface_hub/how-to-cache#limitations.\n",
      "To support symlinks on Windows, you either need to activate Developer Mode or to run Python as an administrator. In order to activate developer mode, see this article: https://docs.microsoft.com/en-us/windows/apps/get-started/enable-your-device-for-development\n",
      "  warnings.warn(message)\n",
      "Xet Storage is enabled for this repo, but the 'hf_xet' package is not installed. Falling back to regular HTTP download. For better performance, install the package with: `pip install huggingface_hub[hf_xet]` or `pip install hf_xet`\n"
     ]
    },
    {
     "data": {
      "application/vnd.jupyter.widget-view+json": {
       "model_id": "bc8e102f869b414aa872e2a0abc7a377",
       "version_major": 2,
       "version_minor": 0
      },
      "text/plain": [
       "model.safetensors:   0%|          | 0.00/268M [00:00<?, ?B/s]"
      ]
     },
     "metadata": {},
     "output_type": "display_data"
    },
    {
     "data": {
      "application/vnd.jupyter.widget-view+json": {
       "model_id": "7b6ed145477f4bdd854831acf0fac637",
       "version_major": 2,
       "version_minor": 0
      },
      "text/plain": [
       "tokenizer_config.json:   0%|          | 0.00/48.0 [00:00<?, ?B/s]"
      ]
     },
     "metadata": {},
     "output_type": "display_data"
    },
    {
     "data": {
      "application/vnd.jupyter.widget-view+json": {
       "model_id": "e179747f8b494fa19ea601f67f282027",
       "version_major": 2,
       "version_minor": 0
      },
      "text/plain": [
       "vocab.txt: 0.00B [00:00, ?B/s]"
      ]
     },
     "metadata": {},
     "output_type": "display_data"
    },
    {
     "name": "stderr",
     "output_type": "stream",
     "text": [
      "Device set to use cpu\n"
     ]
    },
    {
     "name": "stdout",
     "output_type": "stream",
     "text": [
      " She is so ugly\n"
     ]
    },
    {
     "data": {
      "text/plain": [
       "[{'label': 'NEGATIVE', 'score': 0.9997853636741638}]"
      ]
     },
     "execution_count": 16,
     "metadata": {},
     "output_type": "execute_result"
    }
   ],
   "source": [
    "sentiment_pipeline = pipeline(\"sentiment-analysis\")\n",
    "print(sent)\n",
    "sentiment_pipeline(sent)"
   ]
  },
  {
   "cell_type": "code",
   "execution_count": 17,
   "id": "03f57588-fd63-4dca-b879-6ed56ad20274",
   "metadata": {},
   "outputs": [
    {
     "name": "stderr",
     "output_type": "stream",
     "text": [
      "No model was supplied, defaulted to distilbert/distilbert-base-uncased-finetuned-sst-2-english and revision 714eb0f (https://huggingface.co/distilbert/distilbert-base-uncased-finetuned-sst-2-english).\n",
      "Using a pipeline without specifying a model name and revision in production is not recommended.\n",
      "Device set to use cpu\n"
     ]
    },
    {
     "name": "stdout",
     "output_type": "stream",
     "text": [
      "She is not fair but is so adorable\n"
     ]
    },
    {
     "data": {
      "text/plain": [
       "[{'label': 'POSITIVE', 'score': 0.99979168176651}]"
      ]
     },
     "execution_count": 17,
     "metadata": {},
     "output_type": "execute_result"
    }
   ],
   "source": [
    "sentiment_pipeline = pipeline(\"sentiment-analysis\")\n",
    "print(sent1)\n",
    "sentiment_pipeline(sent1)"
   ]
  },
  {
   "cell_type": "code",
   "execution_count": 18,
   "id": "c08e7b8a-b30d-4086-9f0c-dd0bc894881f",
   "metadata": {},
   "outputs": [
    {
     "name": "stderr",
     "output_type": "stream",
     "text": [
      "No model was supplied, defaulted to distilbert/distilbert-base-uncased-finetuned-sst-2-english and revision 714eb0f (https://huggingface.co/distilbert/distilbert-base-uncased-finetuned-sst-2-english).\n",
      "Using a pipeline without specifying a model name and revision in production is not recommended.\n",
      "Device set to use cpu\n"
     ]
    },
    {
     "name": "stdout",
     "output_type": "stream",
     "text": [
      "i am wearing a jacket\n"
     ]
    },
    {
     "data": {
      "text/plain": [
       "[{'label': 'POSITIVE', 'score': 0.938788115978241}]"
      ]
     },
     "execution_count": 18,
     "metadata": {},
     "output_type": "execute_result"
    }
   ],
   "source": [
    "sentiment_pipeline = pipeline(\"sentiment-analysis\")\n",
    "print(sent2)\n",
    "sentiment_pipeline(sent2)"
   ]
  },
  {
   "cell_type": "code",
   "execution_count": null,
   "id": "51aee0ea-4451-4219-878f-e3d62c4056bd",
   "metadata": {},
   "outputs": [],
   "source": []
  }
 ],
 "metadata": {
  "kernelspec": {
   "display_name": "Python (nlp_course_env)",
   "language": "python",
   "name": "nlp_course_env"
  },
  "language_info": {
   "codemirror_mode": {
    "name": "ipython",
    "version": 3
   },
   "file_extension": ".py",
   "mimetype": "text/x-python",
   "name": "python",
   "nbconvert_exporter": "python",
   "pygments_lexer": "ipython3",
   "version": "3.11.13"
  }
 },
 "nbformat": 4,
 "nbformat_minor": 5
}
