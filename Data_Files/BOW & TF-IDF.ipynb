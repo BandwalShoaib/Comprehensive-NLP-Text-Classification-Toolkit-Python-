{
 "cells": [
  {
   "cell_type": "code",
   "execution_count": 2,
   "id": "efda79cc-2efe-4961-8191-824fedfdd7aa",
   "metadata": {},
   "outputs": [],
   "source": [
    "import pandas as pd\n",
    "from sklearn.feature_extraction.text import CountVectorizer"
   ]
  },
  {
   "cell_type": "code",
   "execution_count": 3,
   "id": "24c8a724-b587-487d-9949-1c2946567bdd",
   "metadata": {},
   "outputs": [],
   "source": [
    "data = [\n",
    "    \"The cat sat on the mat.\",\n",
    "    \"Dogs are loyal and friendly animals.\",\n",
    "    \"I love eating pizza on weekends.\",\n",
    "    \"The weather today is sunny and bright.\",\n",
    "    \"She enjoys reading books in the library.\",\n",
    "    \"Technology is evolving faster than ever before.\"\n",
    "]\n"
   ]
  },
  {
   "cell_type": "code",
   "execution_count": 4,
   "id": "9684db0f-6293-4cf4-b70d-ab678000026e",
   "metadata": {},
   "outputs": [
    {
     "name": "stdout",
     "output_type": "stream",
     "text": [
      "   and  animals  are  before  books  bright  cat  dogs  eating  enjoys  ...  \\\n",
      "0    0        0    0       0      0       0    1     0       0       0  ...   \n",
      "1    1        1    1       0      0       0    0     1       0       0  ...   \n",
      "2    0        0    0       0      0       0    0     0       1       0  ...   \n",
      "3    1        0    0       0      0       1    0     0       0       0  ...   \n",
      "4    0        0    0       0      1       0    0     0       0       1  ...   \n",
      "5    0        0    0       1      0       0    0     0       0       0  ...   \n",
      "\n",
      "   reading  sat  she  sunny  technology  than  the  today  weather  weekends  \n",
      "0        0    1    0      0           0     0    2      0        0         0  \n",
      "1        0    0    0      0           0     0    0      0        0         0  \n",
      "2        0    0    0      0           0     0    0      0        0         1  \n",
      "3        0    0    0      1           0     0    1      1        1         0  \n",
      "4        1    0    1      0           0     0    1      0        0         0  \n",
      "5        0    0    0      0           1     1    0      0        0         0  \n",
      "\n",
      "[6 rows x 32 columns]\n"
     ]
    }
   ],
   "source": [
    "countvec = CountVectorizer()\n",
    "countvec_fit = countvec.fit_transform(data)\n",
    "bag_of_words = pd.DataFrame(countvec_fit.toarray(),columns = countvec.get_feature_names_out())\n",
    "print(bag_of_words)"
   ]
  },
  {
   "cell_type": "code",
   "execution_count": 5,
   "id": "841b8ea0-72a6-4fda-b924-2ec6914123ba",
   "metadata": {},
   "outputs": [],
   "source": [
    "from sklearn.feature_extraction.text import TfidfVectorizer"
   ]
  },
  {
   "cell_type": "code",
   "execution_count": 6,
   "id": "5ad8a940-0c70-4dd5-869e-7f4cacae551d",
   "metadata": {},
   "outputs": [
    {
     "name": "stdout",
     "output_type": "stream",
     "text": [
      "        and   animals       are    before     books    bright      cat  \\\n",
      "0  0.000000  0.000000  0.000000  0.000000  0.000000  0.000000  0.42297   \n",
      "1  0.344300  0.419871  0.419871  0.000000  0.000000  0.000000  0.00000   \n",
      "2  0.000000  0.000000  0.000000  0.000000  0.000000  0.000000  0.00000   \n",
      "3  0.339786  0.000000  0.000000  0.000000  0.000000  0.414366  0.00000   \n",
      "4  0.000000  0.000000  0.000000  0.000000  0.392858  0.000000  0.00000   \n",
      "5  0.000000  0.000000  0.000000  0.387131  0.000000  0.000000  0.00000   \n",
      "\n",
      "       dogs    eating    enjoys  ...   reading      sat       she     sunny  \\\n",
      "0  0.000000  0.000000  0.000000  ...  0.000000  0.42297  0.000000  0.000000   \n",
      "1  0.419871  0.000000  0.000000  ...  0.000000  0.00000  0.000000  0.000000   \n",
      "2  0.000000  0.462625  0.000000  ...  0.000000  0.00000  0.000000  0.000000   \n",
      "3  0.000000  0.000000  0.000000  ...  0.000000  0.00000  0.000000  0.414366   \n",
      "4  0.000000  0.000000  0.392858  ...  0.392858  0.00000  0.392858  0.000000   \n",
      "5  0.000000  0.000000  0.000000  ...  0.000000  0.00000  0.000000  0.000000   \n",
      "\n",
      "   technology      than       the     today   weather  weekends  \n",
      "0    0.000000  0.000000  0.585654  0.000000  0.000000  0.000000  \n",
      "1    0.000000  0.000000  0.000000  0.000000  0.000000  0.000000  \n",
      "2    0.000000  0.000000  0.000000  0.000000  0.000000  0.462625  \n",
      "3    0.000000  0.000000  0.286871  0.414366  0.414366  0.000000  \n",
      "4    0.000000  0.000000  0.271981  0.000000  0.000000  0.000000  \n",
      "5    0.387131  0.387131  0.000000  0.000000  0.000000  0.000000  \n",
      "\n",
      "[6 rows x 32 columns]\n"
     ]
    }
   ],
   "source": [
    "tfidfvec = TfidfVectorizer()\n",
    "tfidfvec_fit = tfidfvec.fit_transform(data)\n",
    "tfidf_words = pd.DataFrame(tfidfvec_fit.toarray(),columns = tfidfvec.get_feature_names_out())\n",
    "print(tfidf_words)"
   ]
  },
  {
   "cell_type": "code",
   "execution_count": null,
   "id": "ee4333dc-c8e3-435b-9cc1-24f63ebad3db",
   "metadata": {},
   "outputs": [],
   "source": []
  }
 ],
 "metadata": {
  "kernelspec": {
   "display_name": "Python (nlp_course_env)",
   "language": "python",
   "name": "nlp_course_env"
  },
  "language_info": {
   "codemirror_mode": {
    "name": "ipython",
    "version": 3
   },
   "file_extension": ".py",
   "mimetype": "text/x-python",
   "name": "python",
   "nbconvert_exporter": "python",
   "pygments_lexer": "ipython3",
   "version": "3.11.13"
  }
 },
 "nbformat": 4,
 "nbformat_minor": 5
}
