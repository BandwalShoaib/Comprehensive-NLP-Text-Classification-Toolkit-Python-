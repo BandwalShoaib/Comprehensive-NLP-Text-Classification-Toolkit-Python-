{
 "cells": [
  {
   "cell_type": "code",
   "execution_count": 4,
   "id": "f207030d-228e-4f3f-b5e3-7d4688d4d6b9",
   "metadata": {},
   "outputs": [],
   "source": [
    "import nltk\n",
    "from nltk.tokenize import word_tokenize\n",
    "from nltk.stem import PorterStemmer, WordNetLemmatizer\n",
    "from nltk.corpus import stopwords\n",
    "import re\n",
    "import pandas as pd\n",
    "import matplotlib.pyplot as plt"
   ]
  },
  {
   "cell_type": "code",
   "execution_count": 7,
   "id": "d46a951d-2cd0-4181-a901-6fabb8e57206",
   "metadata": {},
   "outputs": [],
   "source": [
    "data = pd.read_csv(r\"D:\\Anaconda\\bbc_news.csv\")"
   ]
  },
  {
   "cell_type": "code",
   "execution_count": 8,
   "id": "70dc9795-8568-4aec-a2b5-52296ce89960",
   "metadata": {},
   "outputs": [
    {
     "name": "stdout",
     "output_type": "stream",
     "text": [
      "<class 'pandas.core.frame.DataFrame'>\n",
      "RangeIndex: 1000 entries, 0 to 999\n",
      "Data columns (total 7 columns):\n",
      " #   Column       Non-Null Count  Dtype \n",
      "---  ------       --------------  ----- \n",
      " 0   Unnamed: 0   1000 non-null   int64 \n",
      " 1   index        1000 non-null   int64 \n",
      " 2   title        1000 non-null   object\n",
      " 3   pubDate      1000 non-null   object\n",
      " 4   guid         1000 non-null   object\n",
      " 5   link         1000 non-null   object\n",
      " 6   description  1000 non-null   object\n",
      "dtypes: int64(2), object(5)\n",
      "memory usage: 54.8+ KB\n"
     ]
    }
   ],
   "source": [
    "data.info()"
   ]
  },
  {
   "cell_type": "code",
   "execution_count": null,
   "id": "53b45e5d-aa08-471b-ba34-c842db112d20",
   "metadata": {},
   "outputs": [],
   "source": [
    "\n"
   ]
  },
  {
   "cell_type": "code",
   "execution_count": 12,
   "id": "e3a4213b-efdc-4b9f-ae87-08fb27ae5496",
   "metadata": {},
   "outputs": [],
   "source": [
    "titles = pd.DataFrame(data['title'])"
   ]
  },
  {
   "cell_type": "code",
   "execution_count": 13,
   "id": "851e3a96-5f47-4f7d-99c6-27ac84b6d3e8",
   "metadata": {},
   "outputs": [
    {
     "data": {
      "text/html": [
       "<div>\n",
       "<style scoped>\n",
       "    .dataframe tbody tr th:only-of-type {\n",
       "        vertical-align: middle;\n",
       "    }\n",
       "\n",
       "    .dataframe tbody tr th {\n",
       "        vertical-align: top;\n",
       "    }\n",
       "\n",
       "    .dataframe thead th {\n",
       "        text-align: right;\n",
       "    }\n",
       "</style>\n",
       "<table border=\"1\" class=\"dataframe\">\n",
       "  <thead>\n",
       "    <tr style=\"text-align: right;\">\n",
       "      <th></th>\n",
       "      <th>title</th>\n",
       "    </tr>\n",
       "  </thead>\n",
       "  <tbody>\n",
       "    <tr>\n",
       "      <th>0</th>\n",
       "      <td>Can I refuse to work?</td>\n",
       "    </tr>\n",
       "    <tr>\n",
       "      <th>1</th>\n",
       "      <td>'Liz Truss the Brief?' World reacts to UK poli...</td>\n",
       "    </tr>\n",
       "    <tr>\n",
       "      <th>2</th>\n",
       "      <td>Rationing energy is nothing new for off-grid c...</td>\n",
       "    </tr>\n",
       "    <tr>\n",
       "      <th>3</th>\n",
       "      <td>The hunt for superyachts of sanctioned Russian...</td>\n",
       "    </tr>\n",
       "    <tr>\n",
       "      <th>4</th>\n",
       "      <td>Platinum Jubilee: 70 years of the Queen in 70 ...</td>\n",
       "    </tr>\n",
       "  </tbody>\n",
       "</table>\n",
       "</div>"
      ],
      "text/plain": [
       "                                               title\n",
       "0                              Can I refuse to work?\n",
       "1  'Liz Truss the Brief?' World reacts to UK poli...\n",
       "2  Rationing energy is nothing new for off-grid c...\n",
       "3  The hunt for superyachts of sanctioned Russian...\n",
       "4  Platinum Jubilee: 70 years of the Queen in 70 ..."
      ]
     },
     "execution_count": 13,
     "metadata": {},
     "output_type": "execute_result"
    }
   ],
   "source": [
    "titles.head()"
   ]
  },
  {
   "cell_type": "code",
   "execution_count": 22,
   "id": "aa942fda-72b1-44ae-920f-e2890c6e0749",
   "metadata": {},
   "outputs": [],
   "source": [
    "# Making everything in lowecase\n",
    "titles['lowercase'] = titles['title'].str.lower()\n"
   ]
  },
  {
   "cell_type": "code",
   "execution_count": 34,
   "id": "33514931-6492-4286-8bcb-c75eebc6faf3",
   "metadata": {},
   "outputs": [
    {
     "data": {
      "text/plain": [
       "0                                           refuse work?\n",
       "1      'liz truss brief?' world reacts uk political t...\n",
       "2        rationing energy nothing new off-grid community\n",
       "3          hunt superyachts sanctioned russian oligarchs\n",
       "4            platinum jubilee: 70 years queen 70 seconds\n",
       "                             ...                        \n",
       "995    dominic raab: third senior civil servant gives...\n",
       "996                  highlights: radacanu beats uytvanck\n",
       "997         pictures: mountain bikers descend snowy peak\n",
       "998    companies must help cut living costs, says new...\n",
       "999       beware online car sale scams, consumers warned\n",
       "Name: no_stopwords, Length: 1000, dtype: object"
      ]
     },
     "execution_count": 34,
     "metadata": {},
     "output_type": "execute_result"
    }
   ],
   "source": [
    "# Removing stopwords from the data\n",
    "en_stopwords = stopwords.words('english')\n",
    "titles['no_stopwords'] = titles['lowercase'].apply(lambda x: \" \".join([words for words in x.split() if words not in en_stopwords]))\n",
    "titles['no_stopwords']"
   ]
  },
  {
   "cell_type": "code",
   "execution_count": 35,
   "id": "247b8b9f-0bad-4584-b0fd-3ab2fc1a4e9b",
   "metadata": {},
   "outputs": [
    {
     "data": {
      "text/plain": [
       "0                                           refuse work \n",
       "1       liz truss brief   world reacts uk political t...\n",
       "2        rationing energy nothing new off grid community\n",
       "3          hunt superyachts sanctioned russian oligarchs\n",
       "4            platinum jubilee  70 years queen 70 seconds\n",
       "                             ...                        \n",
       "995    dominic raab  third senior civil servant gives...\n",
       "996                  highlights  radacanu beats uytvanck\n",
       "997         pictures  mountain bikers descend snowy peak\n",
       "998    companies must help cut living costs  says new...\n",
       "999       beware online car sale scams  consumers warned\n",
       "Name: no_punc, Length: 1000, dtype: object"
      ]
     },
     "execution_count": 35,
     "metadata": {},
     "output_type": "execute_result"
    }
   ],
   "source": [
    "# Removing all the punctuation marks\n",
    "titles['no_punc'] = titles ['no_stopwords'].apply(lambda x : re.sub(r\"[^\\w\\s]\", \" \" , x))\n",
    "titles['no_punc']"
   ]
  },
  {
   "cell_type": "code",
   "execution_count": null,
   "id": "20c81346-f138-4962-8de9-e5cff29c31fe",
   "metadata": {},
   "outputs": [],
   "source": []
  },
  {
   "cell_type": "code",
   "execution_count": 41,
   "id": "73f42cc9-bac6-4e3c-a94a-3d021e3b4684",
   "metadata": {},
   "outputs": [
    {
     "data": {
      "text/plain": [
       "['company',\n",
       " 'must',\n",
       " 'help',\n",
       " 'cut',\n",
       " 'living',\n",
       " 'cost',\n",
       " 'say',\n",
       " 'new',\n",
       " 'cost',\n",
       " 'living',\n",
       " 'tsar']"
      ]
     },
     "execution_count": 41,
     "metadata": {},
     "output_type": "execute_result"
    }
   ],
   "source": [
    "# Lemmatizing the data\n",
    "lemmatize = WordNetLemmatizer()\n",
    "titles['lemmatized'] = titles['no_punc'].apply(lambda x : [lemmatize.lemmatize(word) for word in x.split()])\n",
    "titles['lemmatized'] [998]"
   ]
  },
  {
   "cell_type": "code",
   "execution_count": 47,
   "id": "8cf4eb22-5450-4b1c-9dd6-35699f652254",
   "metadata": {},
   "outputs": [
    {
     "name": "stdout",
     "output_type": "stream",
     "text": [
      "['refuse', 'work', 'liz', 'truss', 'brief', 'world', 'reacts', 'uk', 'political', 'turmoil', 'rationing', 'energy', 'nothing', 'new', 'off', 'grid', 'community', 'hunt', 'superyachts', 'sanctioned', 'russian', 'oligarch', 'platinum', 'jubilee', '70', 'year', 'queen', '70', 'second', 'red', 'bull', 'found', 'guilty', 'breaking', 'formula', '1', 's', 'budget', 'cap', 'world', 'triathlon', 'championship', 'series', 'flora', 'duffy', 'beat', 'georgia', 'taylor', 'brown', 'woman', 's', 'title', 'terry', 'hall', 'coventry', 'scooter', 'ride', 'out', 'pay', 'tribute', 'singer', 'post', 'office', 'fujitsu', 'face', 'inquiry', 'horizon', 'scandal', 'pavement', 'parking', 'frightens', 'me', 'uk', 'interest', 'rate', 'rise', 'affect', 'high', 'could', 'go', 'stayed', 'storm', 'happens', 'now', 'six', 'nation', 'scotland', 's', 'best', 'since', '99', 'beat', 'best', 'ireland', 'ever', 'long', 'liz', 'truss', 'survive', 'prime', 'minister', 'platinum', 'jubilee', 'beacon', 'light', 'across', 'globe', 'celebrate', 'queen', 's', 'reign', 'top', 'student', 'loan', 'interest', 'rate', 'cut', '5', 'england', 'russian', 'said', 'they', 'd', 'take', 'baby', 'medic', 's', 'story', 'week', 'picture', '11', '17', 'june', '2022', 'xi', 'jinping', 'hong', 'kong', 'tight', 'security', 'city', 'mark', '25', 'year', 'handover', 'rescue', 'carried', 'silence', 'listen', 'sound', 'life', 'nick', 'pope', 'newcastle', 'goalkeeper', 'extends', 'incredible', 'clean', 'sheet', 'record', 'china', 'plan', 'become', 'next', 'big', 'space', 'power', 'barcelona', 'thrash', 'leader', 'real', 'madrid', 'famous', 'clasico', 'win', 'kuenssberg', 'budget', 'cannot', 'mask', 'big', 'change', 'economy', 'nicola', 'bulley', 'search', 'know', 'disappearance', 'cost', 'living', 'christmas', 'light', 'display', 'survive', 'energy', 'crisis', '100', 'year', 'old', 'edinburgh', 'man', 'still', 'working', 'three', 'day', 'week', 'freya', '600kg', 'walrus', 'cause', 'stir', 'norway', 'offer', 'uk', 'home', 'ukrainian', 'refugee', 'nicola', 'bulley', 'search', 'former', 'police', 'bos', 'say', 'criticism', 'unfair', 'bolduc', 'democrat', 'elevated', 'republican', 'backfire', 'strike', 'action', 'cancelled', 'queen', 's', 'death', 'neighbourhood', 'leading', 'green', 'energy', 'revolution', 'men', 's', 'u17', 'european', 'championship', 'dutch', '17', 'year', 'old', 'isaac', 'babadi', 'score', 'panenka', 'penalty', 'amtrak', 'derailment', 'three', 'killed', 'missouri', 'train', 'hit', 'truck', 'energy', 'price', 'cap', 'rising', 'bill', 'four', 'discount', 'payment', 'could', 'help', 'environment', 'mushroom', 'board', 'future', 'surfing', 'flying', 'boat', 'tech', 'cleaner', 'shipping', 'scottish', 'football', 'ban', 'heading', 'day', 'match', 'chris', 'eubank', 'jr', 'v', 'liam', 'smith', 'next', 'boxing', 'unacceptable', 'taunt', 'town', 'destroyed', 'make', 'way', 'white', 'only', 'suburb', 'ukraine', 'war', 'village', 'celebrates', 'russian', 'retreat', 'root', 'hit', 'ton', 'england', 'take', 'command', 'west', 'indie', 'heineken', 'champion', 'cup', 'leicester', '16', '6', 'edinburgh', 'jasper', 'wiese', 'try', 'sends', 'tiger', 'last', 'eight', 'world', 'cup', '2022', 'bellingham', 'gakpo', 'fernandez', 'breakout', 'star', 'briton', 'jack', 'fenton', 'killed', 'greek', 'helicopter', 'accident', 'emotional', 'sue', 'barker', 'get', 'centre', 'court', 'ovation', 'ukrainian', 'skating', 'sister', 'back', 'doing', 'love', 'england', 'v', 'india', 'edgbaston', 'official', 'investigate', 'crowd', 'racism', 'test', 'newspaper', 'headline', 'rwanda', 'plan', 'will', 'fail', 'sa', 'train', 'kyiv', 'force', 'name', 'leon', 'sir', 'lenny', 'henry', 'brings', 'moving', 'adoption', 'story', 'screen', 'big', 'brother', 'star', 'glyn', 'wise', 'plan', 'priest', 'minister', 'asleep', 'wheel', 'dentist', 'shortage', 'say', 'lib', 'dems', 'chris', 'kaba', 'met', 'suspends', 'officer', 'shot', 'dead', 'unarmed', 'man', 'world', 'cup', '2022', 'learned', 'group', 'stage', 'saw', 'record', 'number', 'upset', 'james', 'webb', 'nasa', 'space', 'telescope', 'delivers', 'spectacular', 'picture', 'constitution', 'hill', 'cheltenham', 'champion', 'hurdle', 'winner', 'the', 'horse', 'generation', 'least', 'one', 'victim', 'could', 'survived', 'arena', 'bomb', 'inquiry', 'gareth', 'bale', 'wale', 'captain', 'retires', 'football', 'aged', '33', 'ukraine', 'war', 'silent', 'street', 'wiped', 'donetsk', 'town', 'world', 'cup', '2022', 'vittorio', 'pozzo', 's', 'legacy', 'record', 'might', 'finally', 'threat', 'train', 'strike', 'worker', 'vote', 'six', 'month', 'walkout', 'eidevall', '100', 'sure', 'arsenal', 'advance', 'first', 'leg', 'draw', 'ukraine', 'war', 'returning', 'place', 'father', 'killed', 'furniture', 'firm', 'made', 'collapse', 'customer', 'dark', 'refund', 'widow', 'u', 'capitol', 'riot', 'officer', 'stigma', 'death', 'nh', 'reach', 'deal', 'life', 'saving', 'breast', 'cancer', 'drug', 'giant', 'ceramic', 'sculpture', 'sandy', 'brown', 'unveiled', 'cornwall', 'ceo', 'secret', 'one', 'company', 'attracts', 'men', 'boris', 'becker', 'tennis', 'superstar', 'crashed', 'earth', 'turkish', 'mine', 'explosion', 'kill', '25', 'leaf', 'dozen', 'trapped', 'indian', 'well', 'andy', 'murray', 'emma', 'raducanu', 'jack', 'draper', 'win', 'reach', 'third', 'round', 'world', 'athletics', 'championship', 'gb', 's', 'keely', 'hodgkinson', 'narrowly', 'miss', 'gold', 'dramatic', '800m', 'nh', 'crisis', 'medic', 'trying', 'fix', 'health', 'service', 'jet', 'crash', 'block', 'flat', 'russia', 'prince', 'harry', 'meghan', 'get', 'money', 'chelsea', '4', '2', 'man', 'utd', 'chelsea', 'win', 'historic', 'third', 'successive', 'wsl', 'title', 'tory', 'leadership', 'rather', 'lose', 'right', 'thing', 'say', 'sunak', 'omagh', 'police', 'shooting', 'four', 'men', 'released', 'john', 'caldwell', 'attack', 'northern', 'ireland', '1', '0', 'italy', 'sarah', 'mcfadden', 'score', 'famous', 'winner', 'belfast', 'actress', 'clara', 'darcy', 'starring', 'play', 'brain', 'tumour', 'bridgerton', 'south', 'asian', 'face', 'tv', 'make', 'happy', 'prince', 'harry', 'remembers', 'queen', 'elizabeth', 'ii', 's', 'infectious', 'smile', 'million', 'receive', 'latest', 'cost', 'of', 'living', 'payment', 'joe', 'biden', 'head', 'middle', 'east', 'amid', 'faltering', 'u', 'sway', 'nh', 'public', 'satisfaction', 'health', 'service', 'drop', 'record', 'low', 'seen', 'major', 'winter', 'storm', 'paper', 'lion', 'bare', 'teeth', 'starmer', 's', 'migration', 'policy', 'afghanistan', 'pupil', 'fear', 'spate', 'islamic', 'state', 'attack', 'princess', 'wale', 'kate', 'pay', 'tribute', 'queen', 'elizabeth', 'carol', 'service', 'emma', 'raducanu', 'u', 'open', 'champion', 'discusses', 'tough', 'split', 'coach', 'torben', 'beltz', 'oxford', 'united', '0', '3', 'arsenal', 'eddie', 'nketiah', 'score', 'twice', 'gunner', 'progress', 'ukraine', 'round', 'up', 'putin', 'defends', 'necessary', 'invasion', 'kyiv', 'averts', 'cyber', 'attack', 'ni', 'protocol', 'uk', 'eu', 'reach', 'agreement', 'trade', 'data', 'sharing', 'super', 'mario', 'bros', 'movie', 'jack', 'black', 'rise', 'game', 'adaptation', 'four', 'time', 'slam', 'champion', 'osaka', 'announces', 'pregnancy', 'mcdonald', 's', 'coca', 'cola', 'boycott', 'call', 'grow', 'russia', 'woman', 's', 'footballer', 'year', 'contender', 'sam', 'kerr', 'war', 'ukraine', 'vladimir', 'putin', 'trained', 'fighter', 'africa', 'ryanair', 's', 'michael', 'o', 'leary', 'want', 'practical', 'immigration', 'approach', 'i', 'planned', 'end', 'life', '16', 'still', 'here', 'england', 's', '14', 'men', 'whipped', 'twickenham', 'crowd', 'stirring', 'display', 'open', 'rory', 'mcilroy', 'viktor', 'hovland', 'share', 'lead', 'st', 'andrew', 'third', 'round', 'real', 'madrid', '2', '0', 'eintracht', 'frankfurt', 'karim', 'benzema', 'score', '324th', 'goal', 'real', 'super', 'cup', 'win', 'paper', 'boris', 'dossier', 'judge', 'to', 'back', 'down', 'rwanda', 'queen', 'pull', 'attending', 'commonwealth', 'service', 'mosque', 'fire', 'suspect', 'arrested', 'second', 'attack', 'world', 'cup', '2022', 'belgium', 'drop', 'love', 'away', 'shirt', 'qatar', 'uk', 's', 'living', 'covid', 'plan', 'soho', 's', 'street', 'turned', 'new', 'london', 'art', 'gallery', 'paper', 'cruise', 'ship', 'house', 'migrant', 'new', 'nh', 'cash', 'pay', 'gap', 'boss', 'staff', 'widen', 'think', 'tank', 'local', 'election', 'child', 'urge', 'action', 'save', 'wildlife', 'climate', 'change', 'uk', 'track', 'meet', 'target', 'trump', 'investigation', 'empty', 'folder', 'marked', 'classified', 'found', 'mar', 'a', 'lago', 'jim', 'ratcliffe', 'man', 'bidding', 'man', 'utd', 'shropshire', 'baby', 'death', 'parent', 'whose', 'life', 'changed', 'forever', 'bus', 'journey', 'taken', 'since', '2', 'fare', 'cap', 'say', 'watchdog', 'mexico', 'kidnapping', 'twisted', 'moral', 'code', 'explains', 'cartel', 's', 'apology', 'rail', 'fare', 'england', 'rise', 'inflation', 'rate', 'minister', 'say', 'taliban', 'school', 'u', 'turn', 'a', 'devastating', 'day', 'afghan', 'girl', 'malala', 'yousafzai', 'met', 'police', 'next', 'force', 'casey', 'review', 'ukraine', 'war', 'kherson', 'mariupol', 'key', 'russian', 'success', 'heineken', 'champion', 'cup', 'premiership', 'cap', 'hinders', 'english', 'team', 'alex', 'sanderson', 'ukraine', 'war', 'protester', 'expose', 'crack', 'kremlin', 's', 'war', 'message', 'liz', 'truss', 'vow', 'match', 'ukraine', 'military', 'support', 'politics', 'return', 'wale', 'population', 'hit', 'new', 'high', 'growth', 'lowest', 'many', 'ukrainian', 'fled', 'home', 'gone', 'deloitte', 'report', 'european', 'football', 'made', 'significant', 'recovery', 'covid', 'pandemic', 'nigeria', 'flood', 'overwhelming', 'disaster', 'leaf', '600', 'people', 'dead', 'wimbledon', 'emma', 'raducanu', 'andy', 'murray', 'set', 'centre', 'court', 'day', 'one', 'journey', 'site', 'nord', 'stream', 'explosion', 'quiz', 'week', 'lindsay', 'lohan', 'trouble', 'gracie', 'spinks', 'receipt', 'could', 'traced', 'killer', 'family', 'supreme', 'court', 'happens', 'roe', 'v', 'wade', 'overturned', 'chancellor', 'warns', 'tax', 'rise', 'squeeze', 'spending', 'imran', 'khan', 'ousted', 'pakistan', 's', 'pm', 'key', 'vote', 'artemis', 'nasa', 's', 'orion', 'capsule', 'break', 'distance', 'record', 'ukraine', 'winning', 'social', 'medium', 'war', 'flint', 'arrest', 'missing', 'girl', '12', 'found', 'birmingham', 'france', 'drought', 'parched', 'town', 'left', 'short', 'drinking', 'water', 'invergordon', 'shed', 'door', 'marble', 'bust', 'could', 'sold', 'massive', 'toll', 'living', 'leasehold', 'property', 'ukraine', 'war', 'put', 'value', 'profit', 'nato', 'chief', 'tell', 'country', 'buyer', 'revive', 'interest', 'city', 'flat', 'return', 'office', 'uk', 'weather', 'long', 'cold', 'snap', 'last', 'hidilyn', 'diaz', 'accusation', 'anti', 'government', 'plot', 'historic', 'olympic', 'gold', 'government', 'introduce', 'independent', 'football', 'regulator', 'england', 'backing', 'fan', 'led', 'review', 'pint', 'power', 'parent', 'three', 'way', 'budget', 'could', 'affect', 'a', 'level', 'gcse', 'exam', 'happens', 'paper', 'nato', 's', 'nordic', 'expansion', 'threat', 'boost', 'europe', 'sudden', 'unknown', 'death', 'childhood', 'why', 'beautiful', 'son', 'die', 'droylsden', 'man', 'charged', 'girl', '6', 'abducted', 'sexually', 'assaulted', 'fa', 'cup', 'wrexham', '3', '3', 'sheffield', 'united', 'egan', 's', 'late', 'strike', 'denies', 'wrexham', 'victory', 'uk', 'compassionate', 'say', 'pm', 'suella', 'braverman', 'invasion', 'row', 'foreign', 'secretary', 'liz', 'truss', 'join', 'tory', 'leadership', 'race', 'world', 'cup', '2022', 'wale', 'must', 'put', 'big', 'boy', 'pant', 'on', 'england', 'say', 'bos', 'robert', 'page', 'forgive', 'man', 'tried', 'murder', 'announces', 'leader', 's', 'death', 'name', 'replacement', 'nurse', 'strike', 'much', 'know', 'pay', 'try', 'quiz', 'rishi', 'sunak', 'speaks', 'safety', 'fear', 'daughter', 'leslie', 'jordan', 'grace', 'star', 'dy', 'aged', '67', 'olivia', 'pratt', 'korbel', 'murder', 'accused', 'high', 'level', 'drug', 'dealer', 'north', 'carolina', 'suspect', '15', 'custody', 'raleigh', 'shooting', 'spree', 'uk', 'weather', 'long', 'cold', 'snap', 'last', 'queen', 's', 'funeral', 'guest', 'attend', 'rishi', 'sunak', 's', 'failure', 'wear', 'seat', 'belt', 'investigated', 'heathrow', 'airport', 'extends', 'cap', 'passenger', 'end', 'october', 'john', 'peel', 's', 'family', 'selling', 'rare', 'item', 'archive', 'mp', 'call', 'uk', 'ban', 'two', 'chinese', 'cctv', 'firm', 'u', 'economy', 'shrink', 'sparking', 'recession', 'fear', 'woman', 's', 't20', 'world', 'cup', 'england', 'india', 'prepare', 'decisive', 'group', 'stage', 'encounter', 'michaela', 'mcareavey', 'two', 'men', 'apologise', 'video', 'mocking', 'bride', 's', 'murder', 'scotland', '2', '1', 'republic', 'ireland', 'ryan', 'christie', 's', 'late', 'penalty', 'give', 'host', 'crucial', 'win', 'much', 'could', 'mortgage', 'rise', 'try', 'calculator', 'covid', 'vaccine', 'linked', 'death', 'major', 'u', 'study', 'find', 'oscar', '2023', 'rrr', 's', 'naatu', 'naatu', 'win', 'best', 'original', 'song', 'paper', 'russia', 'accused', 'genocide', 'fuel', 'duty', 'cut', 'forest', 'set', 'new', 'record', 'transfer', 'window', 'rush', 'watch', 'russian', 'tank', 'abandoned', 'retaken', 'ukrainian', 'territory', 'could', 'elgin', 'marble', 'returned', 'greece', 'review', 'nottingham', 'nh', 'maternity', 'failing', 'launch', 'world', 'cup', '2022', 'fan', 'miss', 'kick', 'off', 'fifa', 'ticket', 'app', 'issue', 'england', 'u21s', '3', '0', 'albania', 'u21s', 'young', 'lion', 'qualify', '2023', 'european', 'under', '21', 'championship', 'make', 'movie', 'without', 'huge', 'carbon', 'footprint', 'tv', 'presenter', 'matthew', 'bassett', 'show', 'life', 'go', 'spinal', 'injury', 'gta', 'rockstar', 'rejected', 'eminem', 'movie', 'deal', 'say', 'insider', 'world', 'cup', '2022', 'france', 's', 'kylian', 'mbappe', 'upstage', 'olivier', 'giroud', 'goalscoring', 'record', 'mystery', 'death', 'two', 'saudi', 'sister', 'sydney', 'matt', 'hancock', 'celebrity', 'led', 'dozen', 'complaint', 'mp', 'watchdog', 'cricket', 'world', 'cup', 'england', 'australia', 'final', 'shown', 'free', 'air', 'sunday', 'nurse', 'strike', 'thousand', 'join', 'first', 'walkout', 'sad', 'day', 'exeter', 'man', 'held', 'murder', 'woman', 'ludwell', 'valley', 'park', 'tory', 'leadership', 'truss', 'criticised', 'macron', 'jury', 'out', 'remark', 'keir', 'starmer', 'right', 'wage', 'stuck', 'decade', 'we', 're', 'behind', 'you', 'famous', 'face', 'cheer', 'lioness', 'zelensky', 'asked', 'give', 'russia', 'part', 'ukraine', 'amber', 'heard', 'easy', 'forget', 'human', 'worker', 'take', 'london', 's', 'street', 'amid', 'cost', 'living', 'crisis', 'my', 'cancerous', 'tumour', 'big', 'kettle', 'bell', 'chester', 'zoo', 'rare', 'baby', 'wallaby', 'emerges', 'mother', 's', 'pouch', 'world', 'cup', '2022', 'belgium', 'afraid', 'lose', 'morocco', 'say', 'roberto', 'martinez', 'boy', 'george', 's', 'tear', 'hancock', 'enters', 'celeb', 'camp', 'elon', 'musk', 'defends', 'racist', 'tirade', 'dilbert', 'creator', 'scott', 'adam', 'henry', 'cat', 'heart', 'addenbrooke', 's', 'hospital', 'week', 'picture', '2', '8', 'april', '2022', 'former', 'uk', 'pm', 'boris', 'johnson', 'make', 'trip', 'ukraine', 'picture', 'sporting', 'memory', 'queen', 'cody', 'gakpo', 'liverpool', 'agree', 'sign', 'forward', 'say', 'psv', 'eindhoven', 'prince', 'william', 'oversees', 'trooping', 'colour', 'rehearsal', 'new', 'reality', 'woman', 'seeking', 'abortion', 'texas', 'water', 'pipe', 'robot', 'could', 'stop', 'billion', 'litre', 'leaking', 'london', 's', 'west', 'end', 'man', 'crushed', 'telescopic', 'urinal', 'dy', 'emma', 'raducanu', 'injured', 'british', 'number', 'one', 'face', 'race', 'fit', 'wimbledon', 'world', 'cup', 'south', 'korea', 'reach', 'last', '16', 'dramatic', 'last', 'gasp', 'win', 'portugal', 'china', 'spy', 'balloon', 'u', 'navy', 'release', 'photo', 'debris', 'child', 'q', 'schoolgirl', 'strip', 'search', 'isolated', 'issue', 'police', 'data', 'suggests', 'everybody', 'allowed', 'play', 'football', 'liverpool', '3', '3', 'brighton', 'jurgen', 'klopp', 'vow', 'red', 'fight', 'difficult', 'spell', 'rugby', 'world', 'cup', 'england', 's', 'claudia', 'macdonald', 'hannah', 'botterman', 'start', 'commonwealth', 'game', 'andrea', 'spendolini', 'sirieix', 'noah', 'williams', 'win', 'mixed', 'synchronised', '10m', 'platform', 'gold', 'suella', 'braverman', 'challenge', 'critic', 'oust', 'asylum', 'row', 'beth', 'mead', 'arsenal', 'forward', 'say', 'record', 'wsl', 'crowd', 'still', 'beginning', 'manchester', 'united', '3', '0', 'sheriff', 'tiraspol', 'cristiano', 'ronaldo', 'score', 'comfortable', 'win', 't20', 'world', 'cup', 'england', 'v', 'india', 'semi', 'final', 'jos', 'buttler', 'alex', 'hale', 'star', 'orkney', 'part', 'scallop', 'disco', 'fishing', 'trial', 'putin', 'mariupol', 'russian', 'president', 'saw', 'visit', 'ukraine', 'war', 'jewish', 'child', 'airlifted', 'israel', 'politics', 'increasingly', 'deal', 'breaker', 'u', 'dating', 'scene', 'covid', '19', 'china', 'shanghai', 'getting', 'used', 'new', 'normal', 'vietnam', 'veteran', 'win', 'lottery', 'six', 'time', 'intuition', 'council', 'tax', 'much', 'rising', 'alex', 'murdaugh', 'trial', 'power', 'privilege', 'murder', 'downfall', 'dynasty', 'leicester', 'city', 'bos', 'brendan', 'rodgers', 'vow', 'to', 'fight', 'on', 'survive', 'edgware', 'man', 'arrested', 'woman', 'dy', 'christmas', 'day', 'crash', 'sweden', '5', '0', 'portugal', 'man', 'city', 's', 'filippa', 'angeldal', 'score', 'two', 'easy', 'win', 'swede', 'ukraine', 'war', 'russian', 'foreign', 'minister', 'sergei', 'lavrov', 'fact', 'checked', 'dominic', 'raab', 'face', 'question', 'aggressive', 'behaviour', 'claim', 'pakistan', 'flood', 'map', 'before', 'after', 'photo', 'show', 'extent', 'devastation', 'sri', 'lanka', 'protest', 'unifying', 'nation', 'ethnic', 'fault', 'line', 'run', 'deep', 'u', 'dollar', 'strong', 'mean', 'disabled', 'shropshire', 'man', 'completes', 'seven', 'day', 'marathon', 'feat', 'charlo', 'tszyu', 'undisputed', 'world', 'champion', 'break', 'hand', 'leila', 'borrington', 'woman', 'jailed', 'killing', 'three', 'year', 'old', 'stepson', 'fa', 'cup', '2023', 'highlight', 'joao', 'palhinha', 'manor', 'solomon', 'score', 'wonder', 'goal', 'fulham', 'beat', 'leeds', 'united', 'alabama', 'hunt', 'missing', 'prison', 'inmate', 'guard', 'billie', 'jean', 'king', 'cup', 'final', 'great', 'britain', 's', 'underdog', 'inspired', 'glasgow', 'past', 'experience', 'liverpool', 'bos', 'jurgen', 'klopp', 'say', 'planning', 'fa', 'cup', 'semi', 'final', 'ridiculous', 'mariupol', 'video', 'appear', 'show', 'dead', 'civilian', 'u', 'open', 'rory', 'mcilroy', 'england', 's', 'callum', 'tarren', 'one', 'behind', 'leader', 'adam', 'hadwin', 'ml', 'launch', 'investigation', 'dc', 'united', 'forward', 'taxi', 'fountas', 'accused', 'using', 'racial', 'slur', 'match', 'day', '2', 'analysis', 'bruno', 'guimaraes', 'game', 'newcastle', 'reanne', 'evans', 'beat', 'stuart', 'bingham', 'become', 'first', 'woman', 'win', 'match', 'snooker', 'shoot', 'ukraine', 'conflict', 'growing', 'number', 'firm', 'pull', 'back', 'russia', 'oleksiy', 'vadatursky', 'ukraine', 'grain', 'tycoon', 'killed', 'russian', 'shelling', 'mykolaiv', 'tory', 'member', 'vent', 'fury', 'rishi', 'sunak', 's', 'coronation', 'mp', 'antonio', 'conte', 'italian', 'thanks', 'tottenham', 'fan', 'sharing', 'passion', 'football', 'watch', 'drama', '60', 'second', 'corrie', 'mckeague', 'would', 'binge', 'drink', 'friend', 's', 'death', 'inquest', 'british', 'gymnastics', 'name', 'banned', 'coach', 'zero', 'tolerance', 'plan', 'abuse', 'strike', 'rule', 'trade', 'union', 'allowed', 'strike', 'commonwealth', 'game', 'england', 's', 'woman', 'beat', 'australia', 'win', 'historic', 'first', 'hockey', 'gold', 'worrying', 'number', 'slim', 'child', 'dieting', 'wallasey', 'pub', 'shooting', 'woman', 'fatally', 'shot', 'targeted', 'police', 'putin', 'set', 'midnight', 'deadline', 'rouble', 'gas', 'payment', 'big', 'zuu', 'breaking', 'mould', 'cookery', 'show', 'wayne', 'quilliam', 'photographing', 'diversity', 'aboriginal', 'australia', 'tory', 'mp', 'express', 'concern', 'tax', 'cut', 'pound', 'fall', 'war', 'ukraine', 'fact', 'checking', 'russian', 'claim', 'nato', 'troop', 'fighting', 'ukraine', 'ni', 'election', '2022', 'prime', 'minister', 'visit', 'ni', 'dup', 'block', 'assembly', 'court', 'bid', 'protect', 'tenant', 'rent', 'to', 'rent', 'ghost', 'landlord', 'hundred', 'boundary', 'woman', 's', 'competition', 'small', 'duhan', 'van', 'der', 'merwe', 'score', 'sensational', 'six', 'nation', 'try', 'scotland', 'beat', 'england', 'rrr', 'indian', 'action', 'spectacle', 'charming', 'west', 'john', 'lennon', 's', 'son', 'open', 'yoko', 'ono', 'performance', 'centre', 'liverpool', 'background', 'smith', 's', 'attack', 'omagh', 'police', 'attack', 'john', 'caldwell', 'ha', 'suffered', 'life', 'changing', 'injury', 'pelosi', 'visit', 'taiwan', 'put', 'ball', 'firmly', 'xi', 'jinping', 's', 'court', 'eva', 'kaili', 'senior', 'eu', 'lawmaker', 'arrested', 'alleged', 'bribery', 'gulf', 'state', 'england', 'v', 'south', 'africa', 'sophia', 'dunkley', 'ton', 'lead', 'host', 'convincing', 'win', 'second', 'odi', 'doctor', 'raise', 'safety', 'fear', 'birmingham', 'hospital', 'energy', 'saving', 'scheme', 'energy', 'saving', 'scheme', 'electricity', 'commonwealth', 'game', 'australia', 'beat', 'india', 'nine', 'run', 'claim', 'cricket', 'gold', 'man', 'utd', '2', '1', 'liverpool', 'ten', 'hag', 'get', 'big', 'call', 'right', 'manchester', 'united', 'stun', 'liverpool', 'historic', 'english', 'pub', 'recognised', 'interior', 'pope', 'francis', 'apologises', 'indigenous', 'people', 'canada', 'swingometer', 'inventor', 'sir', 'david', 'butler', 'dy', '98', 'met', 'police', 'dark', 'corner', 'force', 'wayne', 'couzens', 'worked', 'ukraine', 'war', 'boris', 'johnson', 'visit', 'sweden', 'finland', 'mountaineer', 'jp', 'mohr', 's', 'message', 'we', 'reach', 'summit', 'deal', 'at', 'a', 'glance', 'house', 'zana', 'owner', 'hope', 'zara', 'trademark', 'win', 'inspire', 'others', 'face', 'face', 'bandit', 'warlord', 'nigeria', 'bucha', 'murder', 'german', 'report', 'say', 'russian', 'troop', 'discussed', 'killing', 'bruce', 'lehrmann', 'australia', 'parliament', 'rape', 'retrial', 'abandoned', 'love', 'island', 'ekin', 'su', 'davide', 'crowned', '2022', 'winner', 'live', 'final', 'england', 'v', 'south', 'africa', 'issy', 'wong', 'take', 'late', 'wicket', 'boost', 'host', 'nba', 'warrior', 'coach', 'texas', 'school', 'shooting', 'when', 'going', 'something', 'mary', 'queen', 'scot', 'deposed', 'ruler', 's', 'secret', 'prison', 'letter', 'found', 'decoded', 'ukraine', 'war', 'i', 'm', 'scared', 'new', 'teacher', 'war', 'big', 'uk', 'trial', 'find', 'best', 'drug', 'fight', 'flu', 'area', 'new', 'record', 'july', 'heatwave', 'uk', 'covid', 'inquiry', 'draft', 'term', 'reference', 'set', 'mp', 'pierce', 'johnson', 's', 'armour', 'big', 'moment', 'durban', 'flood', 'survivor', 'i', 'thought', 'world', 'ending', 'amazon', 'begin', 'drone', 'delivery', 'lockeford', 'california', 'year', 'petrol', 'price', 'fuel', 'duty', 'going', 'up', 'michelle', 'donelan', 'new', 'education', 'secretary', 'facing', 'thousand', 'complain', 'hmrc', 'tax', 'repayment', 'twitch', 'streamer', 'kai', 'cenat', 'break', 'subscriber', 'record', 'champion', 'league', 'nearly', '2', '000', 'liverpool', 'fan', 'set', 'sue', 'uefa', 'climate', 'change', 'force', 'indigenous', 'islander', 'panama', 'relocate', 'cost', 'living', 'firm', 'warned', 'consumer', 'want', 'low', 'price', 'kenya', 'investigate', 'sex', 'work', 'exposed', 'bbc', 'tea', 'documentary', 'wizz', 'air', 'suspend', 'moldova', 'flight', 'airspace', 'safety', 'bristol', 'mayor', 'fly', 'nine', 'hour', 'ted', 'climate', 'conference', 'victoria', 'azarenka', 'want', 'safeguarding', 'improved', 'female', 'player', 'being', 'spiked', 'stopped', 'going', 'again', 'royal', 'mail', 'overseas', 'parcel', 'ban', 'costing', 'hundred', 'pound', 'doctor', 'trailer', 'drop', 'fan', 'christmas', 'a', 'e', 'absolute', 'chaos', 'spent', '15', 'hour', 'trolley', 'paper', 'voter', 'cost', 'living', 'fear', 'drought', 'day', 'away', 'ukraine', 's', 'yarmolenko', 'get', 'europa', 'winner', 'west', 'ham', 'england', 'v', 'south', 'africa', 'ben', 'stokes', 'change', 'approach', 'despite', 'first', 'test', 'loss', 'french', 'open', 'coco', 'gauff', 'call', 'peace', 'end', 'gun', 'violence', 'camera', 'message', 'indonesia', '120', 'dead', 'football', 'stampede', 'excess', 'death', '2022', 'among', 'worst', '50', 'year', 'it', 's', 'bit', 'weird', 'young', 'mormon', 'missionary', 'bootcamp', 'training', 'italy', 'world', 'cup', 'azzurri', 'turn', 'disaster', 'north', 'macedonia', 'better', 'future', 'petr', 'pavel', 'ex', 'general', 'beat', 'populist', 'rival', 'czech', 'election', 'half', 'million', 'people', 'watch', 'study', 'tiktok', 'comedian', 'rhod', 'gilbert', 'receiving', 'treatment', 'cancer', 'quiz', 'week', 'cristiano', 'ronaldo', 's', 'off', 'field', 'goal', 'deptford', 'london', 'high', 'street', 'voted', 'one', 'world', 's', 'coolest', 'alzheimer', 's', 'neil', 'kinnock', 'supporting', 'wife', 'disease', 'paper', 'wake', 'zombie', 'truss', 'softens', 'handout', 'rock', 'really', 'power', 'light', 'bulb', 'no', 'say', 'expert', 'mind', 'game', 'argentina', 's', 'dancing', 'hero', 'olivier', '2022', 'jason', 'manford', 's', 'best', 'joke', '7', 'highlight', 'author', 'benjamin', 'myers', 'crop', 'circle', 'maker', 'blew', 'people', 's', 'mind', 'king', 's', 'coronation', 'oil', 'animal', 'cruelty', 'free', 'truss', 's', 'tax', 'cut', 'clearly', 'wrong', 'approach', 'say', 'shapps', 'missing', 'doncaster', 'cockatiel', 'prompt', 'unusual', 'search', 'tactic', 'owner', 'election', 'result', '2022', 'boris', 'johnson', 'admits', 'tough', 'loss', 'tory', 'uk', 'election', '2022', 'really', 'simple', 'guide', 'almost', '400', 'migrant', 'cross', 'channel', 'small', 'boat', 'grenfell', 'tragedy', 'government', 'failing', 'act', 'inquiry', 'report', 'say', 'london', 'mayor', 'josephine', 'tewson', 'keeping', 'appearance', 'actress', 'dy', '91', 'margaret', 'thatcher', 's', 'secret', 'brahms', 'phone', 'invented', 'texas', 'shooting', 'sunny', 'uvalde', 'school', 'day', 'ended', 'bloodshed', 'hay', 'fever', 'getting', 'worse', 'uk', 'ukraine', 'war', 'map', 'tracking', 'russian', 'invasion', 'covid', 'spring', 'booster', 'jab', 'launch', 'over', '75s', 'high', 'risk', 'england', 'u', 'midterm', 'election', 'finland', 'answer', 'fake', 'news', 'edinburgh', 'festival', 'biggest', 'art', 'festival', 'world', 'begin', 'world', 'cup', '2022', 'wale', 'allen', 'back', 'bale', 'ramsey', 'shine', 'england', 'game', 'crown', 'new', 'season', 'watched', '1', '1m', 'uk', 'launch', 'day', 'first', 'official', 'rating', 'say', 'partygate', 'downing', 'street', 'party', 'resulted', 'fine', 'far', 'ukraine', 'war', 'rishi', 'sunak', 'visit', 'president', 'zelensky', 'kyiv', 'pledge', '50m', 'aid', 'u', 'tracking', 'suspected', 'chinese', 'surveillance', 'balloon', 'cost', 'living', 'we', 'work', 'can', 't', 'afford', 'family', 'rent', 'assad', 'syria', 's', 'leader', 'make', 'historic', 'visit', 'uae', 'peru', 'protest', 'machu', 'picchu', 'closed', 'indefinitely', 'tourist', 'stranded', 'it', 'felt', 'like', 'u', 'looked', 'like', 'u', 'klopp', 'hail', 'derby', 'win', 'macron', 'defeat', 'le', 'pen', 'vow', 'unite', 'divided', 'france', 'losing', 'wife', 'pancreatic', 'cancer', 'taught', 'life', 'loss', 'world', 'cup', '2022', 'travelling', 'fan', 'found', 'qatar', 'tournament', 'tree', 'gift', 'thousand', 'u', 'city', 'world', 'aquatic', 'championship', 'summer', 'mcintosh', '15', 'win', 'gold', 'great', 'britain', 'take', 'relay', 'bronze', 'happened', 'uk', 'economy', 'pound', 'mortgage', 'week', 'traitor', 'viewer', 'became', 'loyal', 'bbc', 'reality', 'series', 'picture', 'harry', 'meghan', 'join', 'royal', 'national', 'service', 'thanksgiving', 'euro', '2022', 'look', 'quarter', 'final', 'worcester', 'warrior', 'owner', 'agree', 'term', 'sale', 'club', 'interested', 'party', 'chocolate', 'sweet', 'price', 'jump', 'ahead', 'easter', 'record', 'number', 'nurse', 'quitting', 'nh', 'wimbledon', 'ban', 'russian', 'player', 'discrimination', 'andrey', 'rublev', 'steve', 'barclay', 'new', 'health', 'secretary', 'tackle', 'first', 'elaine', 'thompson', 'herah', 'beat', 'dina', 'asher', 'smith', 'emphatic', 'diamond', 'league', 'win', 'labour', 'conference', 'sir', 'keir', 'starmer', 'back', 'net', 'zero', 'electricity', 'boost', 'growth', 'sunak', 'tried', 'every', 'way', 'worked', 'queen', 'elizabeth', 'ii', 's', 'personal', 'touch', 'plan', 'funeral', 'day', 'european', 'under', '19', 'championship', 'england', '4', '0', 'serbia', 'highlight', 'washington', 'dc', 'tipping', 'point', 'migrant', 'arrive', 'border', 'flesh', 'eating', 'bug', 'swansea', 'dj', 'tell', 'graze', 'almost', 'killed', 'vanessa', 'bryant', 'testifies', 'blindsided', 'leaked', 'photo', 'match', 'peace', 'tour', 'i', 'friend', 'ukraine', 'gun', 'now', 'cost', 'living', 'tip', 'cut', 'energy', 'heating', 'cost', 'home', 'photographer', 'pick', 'top', 'shot', 'year', 'biden', 'say', 'maga', 'force', 'threaten', 'u', 'democracy', 'roman', 'abramovich', 'chelsea', 'credit', 'card', 'facility', 'temporarily', 'suspended', 'megafire', 'rip', 'swathe', 'land', 'near', 'bordeaux', 'bristol', 'mum', 'writes', 'heart', 'surgery', 'book', 'help', 'son', 'jeremy', 'corbyn', 'starmer', 'move', 'flagrant', 'attack', 'democracy', 'ukraine', 'war', 'oligarch', 'eugene', 'shvidler', 's', 'jet', 'held', 'indefinitely', 'ukraine', 'war', 'russia', 'troop', 'deployment', 'belarus', 'prompt', 'speculation', 'changing', 'face', 'north', 'sea', 'oil', 'industry', 'pink', 'lady', 'tractor', 'road', 'run', 'help', 'breast', 'cancer', 'research', 'p', 'o', 'ferry', 'backlash', 'grows', 'firing', '800', 'worker', 'european', 'super', 'league', 'new', 'proposal', 'would', 'open', 'competition', 'say', 'organiser', 'euro', '2022', 'watch', 'angle', 'alessia', 'russo', 's', 'wow', 'goal', 'northern', 'ireland', 'meet', 'designer', 'learning', 'disability', 'ro', 'atkins', 'on', 'windfall', 'tax', 'debate', 'peterborough', 'work', 'start', 'cut', 'bretton', 'oak', 'tree', 'online', 'predator', 'targeting', 'live', 'streaming', 'charity', 'gymnast', 'simone', 'bile', 'given', 'highest', 'u', 'civilian', 'award', 'eliza', 'fletcher', 'police', 'identify', 'body', 'found', 'search', 'heiress', 'anteater', 'rescued', 'wildfire', 'bolivian', 'firefighter', 'french', 'open', 'rafael', 'nadal', 'play', 'wimbledon', 'need', 'foot', 'injection', 'i', 'jumping', 'hoop', 'get', 'loan', 'not', 'likely', 'possible', 'liverpool', 'manager', 'jurgen', 'klopp', 'title', 'hope', 'bank', 'england', 'vow', 'bring', 'inflation', 'pound', 'hit', 'record', 'low', 'tax', 'cut', 'plan', 'england', 'v', 'south', 'africa', 'danni', 'wyatt', 'sophia', 'dunkley', 'natalie', 'sciver', 'lead', 'england', 'victory', 'long', 'term', 'plan', 'tackle', 'racial', 'disparity', 'uk', 'uk', 'aid', 'cut', 'mean', 'one', 'south', 'sudan', 'hospital', 'much', 'talent', 'problem', 'indian', 'cricket', 'paper', 'raab', 's', 'high', 'standard', 'nicola', 'cop', 'search', 'sea', 'chelsea', 'bridge', 'man', 'tasered', 'critical', 'condition', 'river', 'thames', 'fall', 'dutch', 'boy', '4', 'take', 'mother', 's', 'car', 'joyride', 'oscar', 'condemns', 'smith', 'slap', 'launch', 'review', 'boris', 'nemtsov', 'murdered', 'putin', 'rival', 'tailed', 'agent', 'linked', 'fsb', 'hit', 'squad', 'tv', 'lookahead', '23', 'highlight', 'look', '2023', 'n', 'korea', 'tested', 'long', 'range', 'missile', 'say', 'u', 'new', 'zealand', 'storm', 'gabrielle', 'tense', 'wait', 'ex', 'cyclone', 'move', 'north', 'island', 'ukraine', 'war', 'russian', 'journalist', 'oksana', 'baulina', 'killed', 'kyiv', 'shelling', 'ukraine', 'war', 'priest', 'shot', 'checkpoint', 'gazprom', 'russian', 'gas', 'bos', 'say', 'our', 'product', 'rule', 'supply', 'row', 'body', 'missing', 'hillwalker', 'found', 'glen', 'coe', 'government', 'set', 'miss', 'air', 'pollution', 'goal', 'report', 'clive', 'myrie', 'ukrainian', 'met', 'give', 'recession', 'could', 'affect', 'me', 'ukraine', 'home', 'office', 'need', 'get', 'grip', 'owen', 'farrell', 'say', 'eddie', 'jones', 'sacking', 'england', 'bos', 'unbelievably', 'disappointing', 'poland', 'feel', 'strain', 'ukraine', 's', 'refugee', 'ukraine', 'war', 'inside', 'recaptured', 'city', 'izyum', 'euro', '2022', 'leah', 'williamson', 'never', 'felt', 'england', 'going', 'spain', 'manchester', 'united', '2', '2', 'leeds', 'united', 'jadon', 'sancho', 'goal', 'earns', 'home', 'side', 'point', 'thriller', 'champion', 'league', 'pep', 'guardiola', 's', 'manchester', 'city', 'aim', 'advance', 'most', 'open', 'competition', 'joe', 'clarke', 'express', 'embarrassment', 'shame', 'whatsapp', 'message', 'turkey', 'earthquake', 'antakya', 'unrecognisable', 'tour', 'guide', 'unproven', 'tyre', 'nichols', 'rumour', 'fit', 'victim', 'blaming', 'pattern', 'artemis', 'nasa', 'try', 'launch', 'moon', 'rocket', 'saturday', 'el', 'sistema', 'venezuelan', 'music', 'scheme', 'changed', 'raploch', 'quiz', 'week', 'oscar', 'apologise', 'week', 'online', 'porn', 'my', 'pupil', 'ask', 'violence', 'independence', 'day', 'chicago', 'radio', 'became', 'voice', 'india', 's', 'freedom', 'gorgosaurus', 'ancient', 'dinosaur', 'skeleton', 'sell', '6m', 'auction', 'sikh', 'prayer', 'book', 'return', 'military', '100', 'year', 'world', 'cup', '2022', 'elation', 'argentina', 'sorrow', 'france', 'fan', 'react', 'st', 'david', 'award', 'merthyr', 'litter', 'picker', 'daniel', 'lewis', 'honoured', 'ukraine', 's', 'battle', 'control', 'sky', 'brit', 'nominee', 'pa', 'salieu', 'jailed', 'coventry', 'violent', 'disorder', 'ni', 'politics', 'another', 'stormont', 'election', 'certainty', 'rishi', 'sunak', 'promise', 'anti', 'social', 'behaviour', 'crackdown', 'kenyan', 'climber', 'join', 'first', 'all', 'black', 'team', 'attempting', 'mount', 'everest', 'french', 'election', 'left', 'surge', 'threatens', 'macron', 'majority', 'france', 'nh', 'mental', 'health', 'trust', 'set', 'food', 'bank', 'staff', 'carrot', 'ice', 'lolly', 'keeping', 'animal', 'cool', 'heatwave', 'warning', 'fresh', 'energy', 'bill', 'shock', 'october', 'price', 'rise', 'everton', 'day', 'hope', 'end', 'despair', 'pressure', 'increase', 'frank', 'lampard', 'lib', 'dems', 'call', 'higher', 'pay', 'social', 'care', 'staff', 'uk', 'inflation', 'higher', 'country', 'nigeria', 's', 'historic', 'dye', 'pit', 'kano', 'risk', 'closure', 'sound', '2023', 'cat', 'burn', 'went', 'busking', 'platinum', 'record', 'firm', 'banging', 'head', 'wall', 'post', 'brexit', 'trade', 'war', 'ukraine', 'change', 'emphasis', 'admission', 'failure', 'moscow', 'ben', 'earl', 'saracen', 'flanker', 'named', 'premiership', 'player', 'season', 'crystal', 'palace', '1', '1', 'manchester', 'united', 'michael', 'olise', 'score', 'late', 'equaliser', 'united', 'miss', 'chance', 'go', 'second', 'young', 'nigerian', 'pin', 'hope', 'presidential', 'outsider', 'cost', 'living', 'save', 'money', 'pet', 'care', 'attacking', 'ukraine', 's', 'power', 'grid', 'war', 'crime', 'greg', 'norman', 'liv', 'golf', 'chief', 'field', 'question', 'saudi', 'arabia', 's', 'human', 'right', 'record', 'dustin', 'johnson', 'resigns', 'pga', 'tour', 'play', 'liv', 'golf', 'sri', 'lanka', 'parliament', 'vote', 'new', 'president', 'amid', 'crisis', 'cost', 'living', 'deptford', 'charity', 'turn', 'phone', 'box', 'community', 'hub', 'chancellor', 'attempt', 'put', 'tax', 'u', 'turn', 'behind', 'megan', 'newborough', 'man', 'strangled', 'girlfriend', 'convicted', 'murder', 'paper', 'hopelessly', 'devoted', 'you', 'tax', 'plan', 'tension', 'arsenal', '3', '0', 'tottenham', 'gunner', 'victory', 'ensures', 'wsl', 'title', 'decided', 'final', 'day', 'ecuador', 'declares', 'emergency', 'gang', 'crime', 'castrating', 'pablo', 'escobar', 's', 'hippo', 'paper', 'uk', 'hostage', 'strike', 'world', 'cup', 'le', 'crunch', 'china', 'taiwan', 'china', 'brood', 'taiwan', 'pelosi', 'lovefest', 'trump', 'organization', 'found', 'guilty', 'tax', 'crime', 'new', 'york', 'trial', 'garth', 'crook', 'team', 'week', 'salah', 'toney', 'mount', 'silva', 'martinez', 'medusa', 'festival', 'one', 'killed', 'strong', 'wind', 'cause', 'stage', 'collapse', 'spain', 'strictly', 'come', 'dancing', 'year', 's', 'newly', 'paired', 'couple', 'feeling', 'kinder', 'chocolate', 'factory', 'told', 'shut', 'salmonella', 'case', 'paper', 'vegan', 'mob', 'foiled', 'care', 'home', 'crisis', 'race', 'make', 'diesel', 'engine', 'run', 'hydrogen', 'manchester', 'city', '2', '2', 'liverpool', 'rivalry', 'fierce', 'pitch', 'friendly', 'child', 'stopped', 'sleeping', 'eating', 'play', 'fornite', 'lawsuit', 'mini', 'budget', 'mean', 'finance', 'pakistan', 'goat', 'long', 'eared', 'kid', 'becomes', 'star', 'time', 'queen', 's', 'funeral', 'wear', 'military', 'uniform', 'question', 'west', 'ham', 'united', '2', '1', 'anderlecht', 'jarrod', 'bowen', 'said', 'benrahma', 'score', 'hammer', 'progress', 'woman', 'manipulated', 'abortion', 'pregnancy', 'crisis', 'centre', 'curious', 'owl', 'inspects', 'tv', 'weather', 'station', 'camera', 'dominic', 'raab', 's', 'quest', 'reform', 'human', 'right', 'law', 'almost', 'over', 'ukrainian', 'way', 'uk', 'hit', 'paperwork', 'dead', 'end', 'calais', 'woman', 's', 't20', 'world', 'cup', 'best', 'shot', 'alice', 'capsey', 's', '51', 'ireland', 'encanto', 'director', 'invite', 'glass', 'hero', 'schoolgirl', 'lowri', 'baftas', 'cheltenham', 'stabbing', 'man', 'charged', 'attempted', 'murder', 'woman', 'attacked', 'teacher', 'top', '10', 'earner', 'area', 'omicron', 'v', 'zero', 'covid', 'long', 'china', 'hold', 'on', 'world', 'cup', '2022', 'argentina', 'france', 'meet', 'final', 'lusail', 'stadium', 'china', 'hong', 'kong', 'five', 'moment', 'fraught', 'relationship', 'since', 'handover', 'salt', 'bae', 'get', 'hold', 'world', 'cup', 'final', 'nurse', 'striking', 'area', 'use', 'look', 'up', 'find', 'scientist', 'actually', 'want', 'inuit', 'greenlanders', 'demand', 'answer', 'danish', 'birth', 'control', 'scandal', 'teacher', 'strike', 'neu', 'urge', 'teacher', 'reject', 'new', 'pay', 'deal', 'diwali', '2022', 'india', 'celebrates', 'festival', 'dazzling', 'display', 'light', 'sir', 'mo', 'farah', 'relieved', 'home', 'office', 'take', 'action', 'citizenship', 'harry', 'style', 'new', 'album', 'harry', 's', 'house', 'charm', 'music', 'critic', 'young', 'sport', 'personality', 'year', '2022', 'gymnast', 'jessica', 'gadirova', 'win', 'award', 'budget', 'jeremy', 'hunt', 'expand', 'free', 'childcare', 'one', 'two', 'year', 'old', 'abortion', 'overturn', 'roe', 'v', 'wade', 'mean', 'it', 's', 'like', 'oven', 'life', 'britain', 's', 'hottest', 'neighbourhood', 'canada', 'mp', 'regret', 'calling', 'debate', 'toilet', 'motd', 'top', '10', 'could', 'trophy', 'way', 'spur', 'last', 'chandrashekhar', 'harbola', 'waited', '38', 'year', 'body', 'came', 'siachen', 'sunken', 'russian', 'warship', 'moskva', 'know', 'itaewon', 'crush', 'first', 'emergency', 'call', 'came', 'hour', 'crush', 'derby', 'county', 'administrator', 'give', 'chris', 'kirchner', 'friday', 'deadline', 'prove', 'buy', 'club', 'covid', 'five', 'thing', 'still', 'need', 'keep', 'eye', 'sir', 'terry', 'pratchett', 'short', 'story', 'published', 'found', 'fan', 'royal', 'society', 'chemistry', 'report', 'say', 'racism', 'pervasive', 'italian', 'pm', 'mario', 'draghi', 'offer', 'resignation', 'coalition', 'fall', 'apart', 'patagonia', 'billionaire', 'bos', 'fashion', 'retailer', 'give', 'company', 'away', 'struggling', 'gym', 'pool', 'issue', 'plea', 'help', 'i', 'caught', 'fraudster', 'funeral', 'director', 'bos', 'failing', 'young', 'people', 'cancer', 'no', 'idea', 'passenger', 'land', 'florida', 'plane', 'pilot', 'fall', 'ill', 'china', 'protest', 'mystery', 'beijing', 'demonstrator', 'spark', 'online', 'hunt', 'tribute', 'london', 'zoo', 's', 'crocodile', 'skin', 'handbag', 'display', 'go', 'viral', 'rail', 'worker', 'given', 'fresh', 'pay', 'offer', 'dispute', 'northumberland', 'shooting', 'star', 'caught', 'one', 'in', 'million', 'photo', 'trapped', 'saudi', 'arabia', 'mother', 's', 'fight', 'free', 'daughter', 'julian', 'nagelsmann', 'bayern', 'munich', 'sack', 'manager', 'turn', 'thomas', 'tuchel', 'police', 'failing', 'bring', 'talent', 'black', 'community', 'say', 'racism', 'lead', 'north', 'korea', 'fighting', 'covid', 'traditional', 'medicine', 'killer', 'history', 'coercive', 'behaviour', 'face', 'tougher', 'sentence', 'kanye', 'west', 'adidas', 'investigates', 'claim', 'toxic', 'behaviour', 'boris', 'johnson', '48', 'hour', 'political', 'chaos', 'train', 'strike', 'series', 'walkout', 'saturday', 'suspended', 'antarctic', 'post', 'office', 'home', 'christmas', 'among', 'penguin', 'powerball', 'store', 'owner', 'sold', 'record', 'u', 'powerball', 'ticket', 'get', '1m', 'bonus', 'brit', 'award', '2023', 'host', 'mo', 'gilligan', 'gear', 'show', 'energy', 'bill', 'fear', 'power', 'cut', 'switch', 'nebuliser', 'uk', 'inflation', 'rate', 'calculator', 'much', 'price', 'rising', 'you', 'car', 'crushed', 'tractor', 'crash', 'caught', 'cctv', 'raf', 'mildenhall', 'pdc', 'world', 'championship', 'michael', 'van', 'gerwen', 'play', 'michael', 'smith', '2023', 'final', 'nicola', 'bulley', 'dive', 'team', 'pull', 'search', 'extended', 'tyson', 'fury', 'v', 'dillian', 'whyte', 'world', 'champion', 'not', 'thinking', 'retirement', 'ukraine', 'war', 'kyiv', 'mayor', 'klitschko', 'warns', 'evacuation', 'power', 'lost', 'dog', 'health', 'buy', 'bulldog', 'breed', 'reshaped', 'vet', 'plead', 'watch', 'rapper', 'loyle', 'carner', 'jamie', 'oliver', 'talk', 'food', 'confidence', 'qatar', '2022', 'people', 'protesting', 'world', 'cup', 'host', 'woman', 's', 'euro', '2022', 'england', 'germany', 'fan', 'arrive', 'wembley', 'world', 'cup', '2022', 'take', 'penalty', 'shootout', 'rage', 'machine', 'pull', 'reading', 'leeds', 'festival', 'clarence', 'house', 'staff', 'told', 'job', 'risk', 'crash', 'dummy', 'aimed', 'protecting', 'woman', 'driver', 'heathrow', 'airport', 'two', 'plane', 'minor', 'collision', 'attacker', 'clear', 'would', 'be', 'goal', 'team', 'mate', 'line', 'canadian', 'premier', 'league', 'french', 'election', 'macron', 'le', 'pen', 'clash', 'tv', 'presidential', 'debate', 'putin', 'west', 'unlikely', 'reject', 'russian', 'energy', 'year', 'business', 'close', 'stay', 'open', 'day', 'queen', 's', 'funeral', 'energy', 'bill', 'fear', 'winter', 'loom', 'edge', 'scotland', 'bbc', 'presenter', 'lost', 'baby', 'urge', 'woman', 'open', 'miscarriage', 'rupert', 'murdoch', 'jerry', 'hall', 'reportedly', 'divorce', 'paper', 'tory', 'in', 'fighting', 'price', 'avoid', 'world', 'war', 'liverpool', '1', '1', 'crystal', 'palace', 'nunez', 'red', 'card', 'costly', 'anfield', 'stalemate', 'cost', 'living', 'roll', 'royce', 'staff', 'get', '2', '000', 'payment', 'ukraine', 'facing', 'russian', 'army', 'front', 'line', 'donbas', 'monkeypox', 'catch', 'it', 'cost', 'living', 'young', 'cancer', 'patient', 'in', 'desperate', 'situation', 'rihanna', 'headline', 'super', 'bowl', 'half', 'time', 'show', 'actor', 'orlando', 'bloom', 'meet', 'child', 'affected', 'ukraine', 'war', 'visit', 'zelensky', 'scottish', 'spaceport', 's', 'prototype', 'rocket', 'unveiled', 'chancellor', 'break', 'pledge', 'energy', 'bill', 'mar', 'a', 'lago', 'trump', 'owned', 'property', 'over', 'valued', 'pfas', 'possible', 'breakthrough', 'destroy', 'harmful', 'forever', 'chemical', 'watch', 'huge', 'fireball', 'engulfs', 'church', 'new', 'jersey', 'buffalo', 'shooting', 'ny', 'probe', 'bone', 'chilling', 'social', 'medium', 'role', 'disney', 's', 'magic', 'spell', 'wearing', 'off', 'cost', 'living', 'university', 'student', 'priced', 'out', 'graduation', 'birmingham', 's', 'fall', 'woman', 's', 'super', 'league', 'high', 'flyer', 'relegation', 'world', 'cup', '2022', 'switzerland', '1', '0', 'cameroon', 'breel', 'embolo', 'strike', 'secures', 'win', 'i', 'change', 'look', 'talk', 'fit', 'work', 'bus', 'driver', 'charged', 'murder', 'ramming', 'quebec', 'nursery', 'i', 'can', 't', 'forget', 'her', 'myanmar', 's', 'soldier', 'admit', 'atrocity', 'insulate', 'britain', 'judge', 'inspired', 'activist', 'm25', 'protest', 'coco', 'gauff', 'column', 'tiktok', 'jaden', 'smith', 'help', 'escape', 'australian', 'open', 'pressure', 'covid', 'uk', 'first', 'country', 'approve', 'dual', 'strain', 'vaccine', 'wimbledon', 'ons', 'jabeur', 'post', 'final', 'tear', 'bob', 'marley', 'runner', 'up', 'trophy', 'ulvade', 'shooting', 'kamala', 'harris', 'call', 'assault', 'weapon', 'ban', 'bob', 'dylan', 'apologises', 'machine', 'printed', 'signature', 'woman', 's', 'six', 'nation', 'emilie', 'boulard', 'score', 'brilliant', 'try', 'france', 'italy', 'phyllida', 'barlow', 'renowned', 'british', 'sculptor', 'dy', 'aged', '78', 'master', 'rory', 'mcilroy', 'a', 'happy', 'ever', 'chipping', '18th', 'stunning', 'final', 'round', 'iraq', 'war', 'ali', 'abbas', 'lost', 'arm', 'war', 'high', 'street', 'shop', 'thriving', 'tough', 'year', 'xi', 'jinping', 's', 'party', 'getting', 'started', 'country', 'tackle', 'energy', 'bill', 'chris', 'mason', 'boris', 'johnson', 's', 'political', 'future', 'hang', 'balance', 'rugby', 'world', 'cup', 'england', 'keep', 'cool', 'biggest', 'pool', 'game', 'heat', 'pump', 'work', 'get', 'one', 'timed', 'magazine', 'issue', 'final', 'print', 'edition', '54', 'year', 'imran', 'khan', 'pakistan', 'police', 'open', 'investigation', 'former', 'pm', 'liverpool', '0', '1', 'real', 'madrid', 'champion', 'league', 'defeat', 'cap', 'miserable', 'end', 'magnificent', 'season', 'amid', 'paris', 'chaos', 'nikki', 'haley', 'five', 'thing', 'know', 'white', 'house', 'hopeful', 'u', 'live', 'xi', 'jinping', 's', 'world', 'euro', '2022', 'ni', 'bos', 'kenny', 'shiels', 'say', 'created', 'monster', 'growing', 'quickly', 'jeremy', 'hunt', 'everyone', 'pay', 'tax', 'falklands', 'war', 'i', 'thought', 'one', 'like', 'this', 'liz', 'truss', 's', 'short', 'bumpy', 'ride', '85', 'second', 'tech', 'helping', 'driverless', 'car', 'see', 'round', 'corner', 'fry', 'up', 'breakfast', 'cost', '40p', 'last', 'year', 'watch', 'moment', 'australian', 'police', 'swoop', 'secret', 'drug', 'flight', 'video', 'game', 'prescribed', 'doctor', 'treat', 'adhd', 'paying', 'basic', 'pushing', 'people', 'debt', 'charity', 'say', 'medium', 'given', 'access', 'family', 'court', 'hearing', 'china', 'heatwave', 'temperature', '40c', 'expected', 'weekend', 'moment', 'police', 'arrest', 'pub', 'shooting', 'suspect', 'belgorod', 'fear', 'denial', 'russian', 'city', 'hit', 'shell', 'council', 'tax', 'much', 'rising', 'nunez', 'head', 'winner', 'benfica', 'beat', 'ajax', 'reach', 'last', 'eight', 'buyer', 'back', '62', '000', 'mr', 'blobby', 'suit', 'purchase', 'ten', 'hag', 'warning', 'garnacho', 'teenager', 'star', 'man', 'utd', 'win', 'climate', 'change', 'first', 'bill', 'written', 'child', 'climate', 'education', 'secret', 'filming', 'victim', 'feel', 'let', 'court', 'm', 's', 'store', 'sorry', 'displaying', 'daffodil', 'alongside', 'veg', 'world', 'snooker', 'championship', '2022', 'ronnie', 'o', 'sullivan', 'beat', 'david', 'gilbert', 'prince', 'harry', 'i', 'want', 'father', 'brother', 'back', 'pakistan', 'v', 'england', 'rehan', 'ahmed', 'could', 'make', 'debut', 'karachi', 'woman', 'found', 'new', 'life', 'given', 'six', 'week', 'live', 'paper', 'red', 'alert', 'earth', 'pm', 'turn', 'sharm', 'cricket', 'world', 'cup', 'england', 'australia', 'set', 'final', 'tiverton', 'honiton', 'by', 'election', 'voter', 'think', 'pm', 'sunak', 'welcome', 'valuable', 'talk', 'health', 'leader', 'macron', 'say', 'uk', 'france', 'face', 'problem', 'leader', 'unsure', 'friendship', 'eastenders', 'edward', 'syndrome', 'difficult', 'choice', 'parent', 'turkey', 'earthquake', 'rescue', 'continues', 'almost', '150', 'hour', 'on', 'you', 'miracle', 'kardashian', 'fined', 'crypto', 'pump', 'dump', 'netanyahu', 's', 'hard', 'line', 'new', 'government', 'take', 'office', 'israel', 'england', 'v', 'south', 'africa', 'host', 'win', 'first', 't20', 'wrap', 'multi', 'format', 'series', 'pitch', 'side', 'brain', 'scan', 'aim', 'make', 'sport', 'safer', 'dinosaur', 'track', '113m', 'year', 'ago', 'exposed', 'severe', 'drought', 'el', 'clasico', 'real', 'madrid', 'beat', 'barcelona', '3', '1', 'bernabeu', 'man', 'city', 'v', 'man', 'utd', 'erik', 'ten', 'hag', 'facing', 'derby', 'dilemma', 'danny', 'murphy', 'analysis', 'paper', 'predator', 'join', 'police', 'king', 'bungle', 'chantelle', 'cameron', 'beat', 'jessica', 'mccaskill', 'become', 'undisputed', 'light', 'welterweight', 'champion', 'ferrell', 'oscar', 'nomination', 'elf', 'say', 'curtis', 'royal', 'mail', 'worker', 'hold', '19', 'day', 'strike', 'action', 'tony', 'blair', 'join', 'queen', 's', 'highest', 'chivalry', 'order', 'windsor', 'ceremony', 'uganda', 'story', 'parent', 'never', 'told', 'rwanda', 'asylum', 'plan', 'uk', 'minister', 'partially', 'lose', 'rwanda', 'secrecy', 'bid', 'replace', 'boris', 'johnson', 'anne', 'frank', 'betrayal', 'book', 'pulled', 'finding', 'discredited', 'france', 's', 'mustard', 'shortage', 'leaf', 'sour', 'taste', 'grand', 'national', 'preview', 'rachael', 'blackmore', 'seek', 'aintree', 'double', 'minella', 'time', 'shireen', 'abu', 'aqla', 'violence', 'al', 'jazeera', 'reporter', 's', 'funeral', 'jerusalem', 'two', 'child', 'diagnosed', 'mnd', 'euro', '2024', 'italy', 'manager', 'mancini', 'bemoans', 'lack', 'italian', 'talent', 'serie', 'nicola', 'bulley', 'man', '34', 'arrested', 'police', 'scene', 'footage', 'mazepin', 'father', 'added', 'list', 'wealthy', 'russian', 'sanctioned', 'eu', 'labour', 'mp', 'christian', 'matheson', 'resigns', 'sexual', 'misconduct', 'england', 'v', 'india', 'third', 'odi', 'pant', 'hit', 'five', 'four', 'row', 'finish', 'england', 'raducanu', 'indian', 'well', 'third', 'round', 'win', 'garcia', 'thames', 'water', 'plan', 'introduce', 'hosepipe', 'ban', 'in', 'week', 'akon', 's', 'wakanda', 'grazing', 'goat', 'crumbling', 'crypto', 'dream', 'rory', 'mcilroy', 'share', 'lead', 'canadian', 'open', 'final', 'round', 'cop27', 'egypt', 'climate', 'conference', 'important', 'woman', 'given', 'eight', 'year', 'jail', 'term', 'false', 'rape', 'claim', 'picture', 'flooding', 'across', 'uk', 'week', 'heavy', 'rain', 'front', 'line', 'battle', 'kharkiv', 'platinum', 'jubilee', 'eight', 'new', 'city', 'created', 'queen', 's', 'honour', 'uk', 'athletics', 'championship', 'jeremiah', 'azu', 'daryll', 'neita', 'take', '100m', 'gold', 'brother', '12', '13', 'wanted', 'raiding', 'top', 'london', 'hotel', 'chicken', 'getting', 'expensive', 'five', 'way', 'save', 'money', 'train', 'ticket', 'woman', 's', 'world', 'cup', 'play', 'off', 'wale', '1', '0', 'bosnia', 'herzegovina', 'ratcliffe', 'sheikh', 'jassim', 'submit', 'new', 'man', 'utd', 'bid', 'turkey', 'syria', 'earthquake', 'first', 'aid', 'convoy', 'reach', 'opposition', 'held', 'idlib', 'mobile', 'phone', 'fraud', 'they', 'stole', '22', '500', 'using', 'banking', 'app', 'covid', 'test', 'still', 'need', 'travel', 'abroad', 'strike', 'rule', 'allowed', 'strike', 'our', 'mortgage', 'got', 'high', 'put', 'baby', 'transgender', 'prisoner', 'row', 'about', 'vladimir', 'putin', 'actually', 'arrested', 'train', 'driver', 'offered', 'pay', 'rise', 'bid', 'end', 'strike', 'i', 'adopt', 'wobbly', 'cat', 'cost', 'living', 'made', 'university', 'flat', 'hostile', 'labour', 'call', 'vote', 'give', 'mp', 'power', 'appoint', 'new', 'ethic', 'chief', 'comic', 'relief', 'return', 'traitor', 'eurovision', 'sketch', 'meditative', 'magic', 'watching', 'people', 'pay', 'respect', 'indian', 'well', 'emma', 'raducanu', 'beat', 'danka', 'kovinic', 'jack', 'draper', 'set', 'dan', 'evans', 'clash', 'commonwealth', 'game', 'watch', 'opening', 'ceremony', 'best', 'bit', 'including', 'duran', 'duran', 'lenny', 'henry', 'tom', 'daley', 'jacky', 'hunt', 'broersma', 'cancer', 'survivor', 'ran', '104', 'marathon', '104', 'day', 'bafta', 'tv', 'award', 'eight', 'highlight', 'ceremony', 'west', 'ham', 'united', '1', '2', 'eintracht', 'frankfurt', 'hammer', 'trail', 'first', 'leg', 'brentford', 'hit', 'four', 'humiliate', 'man', 'utd', 'energy', 'bill', 'can', 't', 'pay', 'could', 'ukraine', 'win', 'war', 'question', 'ukraine', 'war', 'russia', 'attack', 'theatre', 'sheltering', 'civilian', 'mariupol', 'say', 'pride', 'london', 'celebrating', '50th', 'anniversary', 'uk', 's', 'first', 'pride', 'parade', 'john', 'lewis', 'mary', 'porta', 'warns', 'retailer', 'let', 'go', 'soul', 'angelina', 'jolie', 'visit', 'cafe', 'lviv', 'ukraine', 'world', 'cup', '2022', 'morocco', 'dream', 'beaten', 'france', 'semi', 'final', 'colombia', 'election', 'surprise', 'election', 'run', 'off', 'beckons', 'watford', '1', '0', 'sheffield', 'united', 'hornet', 'give', 'rob', 'edward', 'winning', 'start', 'manager', 'match', 'day', '2', 'analysis', 'manchester', 'united', 's', 'shocking', 'display', 'we', 'can', 't', 'afford', 'give', 'away', 'christmas', 'cake', 'year', 'ancient', 'egyptian', 'green', 'coffin', 'returned', 'cairo', 'u', 'lauren', 'price', 'welsh', 'olympic', 'champion', 'win', 'professional', 'boxing', 'debut', 'wembley', 'arena', 'inside', 'amapiano', 'new', 'sound', 'south', 'africa', 'måneskin', 'wanted', 'show', 'dark', 'side', 'fame', 'new', 'album', 'rush', 'bordeaux', 'town', 'hall', 'set', 'fire', 'france', 'pension', 'protest', 'bao', 'fan', 'chinese', 'billionaire', 'keep', 'vanishing', 'rohingya', 'crisis', 'world', 'forgotten', 'stateless', 'refugee', 'nicola', 'bulley', 'body', 'found', 'river', 'confirmed', 'missing', 'mum', 'buffalo', 'shooting', 'parent', 'injured', 'victim', 'demand', 'political', 'action', 'joey', 'barton', 'cleared', 'assaulting', 'wife', 'georgia', 'energy', 'discount', 'phishing', 'robbed', '25', '000', 'text', 'scam', 'call', 'probe', 'claim', 'bbc', 'chair', 'helped', 'ex', 'pm', 'secure', 'loan', 'ro', 'atkins', 'on', 'pm', 's', 'lockdown', 'party', 'fine', 'hundred', 'shaheen', 'afridi', 'join', 'welsh', 'fire', 'kate', 'cross', 'move', 'northern', 'supercharger', 'world', 'cup', '2022', 'norm', 'lgbtq', 'football', 'fan', 'took', 'granted', 'shaken', 'wagatha', 'christie', 'six', 'takeaway', 'vardy', 'rooney', 'trial', 'queen', 's', 'funeral', 'guest', 'attend', 'lucy', 'porter', 'tiktok', 'kill', 'stand', 'up', 'comedy', 'petrol', 'price', 'train', 'fare', 'head', 'teacher', 'quitting', 'within', 'five', 'year', 'taking', 'job', 'england', 'jake', 'wightman', 'could', 'successful', 'ever', 'coe', 'snp', 'candidate', 'predict', 'independence', 'five', 'year', 'disabled', 'get', 'cost', 'living', '150', 'september', 'twin', 'flying', 'support', 'sister', 'despite', 'selection', 'heartbreak', 'i', 'homeless', 'dozen', 'join', 'christmas', 'hike', 'uk', 'defies', 'climate', 'warning', 'new', 'oil', 'gas', 'licence', 'manchester', 'united', '3', '1', 'everton', 'marcus', 'rashford', 'shine', 'man', 'utd', 'beat', 'everton', 'fa', 'cup', 'paper', 'foreign', 'worker', 'drive', 'lilibet', 'becomes', 'princess', 'paper', 'travel', 'carnage', 'worsens', 'pm', 'fuel', 'tory', 'anger', 'twitter', 'elon', 'musk', 'keen', 'taking', 'control', 'iranian', 'woman', 'need', 'certificate', 'prove', 'virgin', 'ukraine', 'war', 'world', 'must', 'act', 'stop', 'russia', 'nuclear', 'threat', 'zelensky', 'nation', 'league', 'wout', 'weghorst', 'denies', 'wale', 'draw', 'late', 'header', 'netherlands', 'go', 'back', 'iran', 'husband', 'kill', 'earth', 'wind', 'fire', 'drummer', 'fred', 'white', 'dy', 'aged', '67', 'northern', 'ireland', 'need', 'deal', 'everton', '1', '1', 'tottenham', 'michael', 'keane', 'stunner', 'cancel', 'harry', 'kane', 'penalty', 'rishi', 'sunak', 'bow', 'tory', 'revolt', 'internet', 'safety', 'law', 'ghislaine', 'maxwell', 'appeal', 'sex', 'trafficking', 'conviction', 'singer', 'changed', 'one', 'word', 'canada', 's', 'anthem', 'peace', 'message', 'gareth', 'bale', 'join', 'child', 'wale', 'centenary', 'year', 'covid', 'china', 'call', 'beijing', 'strengthen', 'response', 'coleen', 'rooney', 'online', 'post', 'last', 'resort', 'russia', 'invaded', 'ukraine', 'putin', 'want', 'rae', 'morris', 'i', 'definitely', 'fully', 'dropped', 'general', 'election', 'next', 'one', 'could', 'called', 'sooner', 'mlb', 'texas', 'ranger', 'eli', 'white', 'make', 'outrageous', 'catch', 'stop', 'home', 'run', 'tampa', 'bay', 'ray', 'ukraine', 'conflict', 'oil', 'price', 'soar', 'highest', 'level', 'since', '2008', 'why', 'cut', 'homeless', 'people', 's', 'hair', 'free', 'nicola', 'sturgeon', 'search', 'begin', 'find', 'successor', 'job', 'i', 'like', 'breaking', 'prison', 'officer', 'stereotype', 'world', 'cup', 'england', 'fan', 'frustrated', 'disappointing', 'usa', 'match', 'the', 'pinnacle', 'quiz', 'night', 'airline', 'told', 'cancel', 'flight', 'stop', 'travel', 'chaos', 'introducing', 'dr', 'ringo', 'starr', 'kherson', 'inside', 'city', 'liberated', 'russian', 'roe', 'v', 'wade', 'u', 'supreme', 'court', 'ruling', 'abortion', 'tyre', 'nichols', 'ex', 'officer', 'plead', 'guilty', 'death', 'bring', 'head', 'spy', 'sent', 'get', 'bin', 'laden', 'stop', 'oil', '200', 'arrested', 'oil', 'terminal', 'protest', 'gadd', 'ice', 'climber', 's', 'close', 'up', 'view', 'climate', 'change', 'wimbledon', '2022', 'stefanos', 'tsitsipas', 'disqualified', 'this', 'rare', 'condition', 'give', 'tv', 'static', 'vision', 'jurgen', 'klopp', 'liverpool', 'manager', 'plan', 'quit', 'unless', 'someone', 'tell', 'me', 'uk', 'weather', 'spring', 'snow', 'part', 'country', 'hit', 'cold', 'snap', 'ukraine', 'war', 'flight', 'ban', 'hit', 'russian', 'foreign', 'minister', 's', 'visit', 'serbia', 'euro', '2022', 'beth', 'mead', 's', 'goal', 'give', 'england', 'winning', 'start', 'austria', 'premier', 'league', 'chelsea', 'liverpool', 'man', 'utd', 'leeds', 'brighton', 'palace', 'queen', 's', 'funeral', 'latest', 'uk', 'weather', 'forecast', 'extreme', 'heat', 'continue', 'weekend', 'mariupol', 'satellite', 'image', 'suggest', 'mass', 'graf', 'dug', 'near', 'besieged', 'city', 'know', 'result', 'four', 'takeaway', 'year', 's', 'gcse', 'result', 'british', 'gas', 'owner', 'centrica', 'shell', 'see', 'profit', 'soar', 'bill', 'rise', 'world', 'cup', '2022', 'england', 'bos', 'gareth', 'southgate', 'looking', 'forward', 'acid', 'test', 'france', 'mesut', 'ozil', 'five', 'great', 'arsenal', 'moment', 'ex', 'real', 'madrid', 'germany', 'midfielder', 'retires', 'marcus', 'north', 'pull', 'running', 'england', 'managing', 'director', 'men', 's', 'cricket', 'quiz', 'week', 'cheese', 'news', 'week', 'picture', '30', 'april', '6', 'may', '2022', 'man', 'city', 'v', 'liverpool', 'premier', 'league', 's', 'top', 'two', 'meet', 'etihad', 'stadium', 'u', 'midterm', 'know', 'election', 'result', 'ni', 'secretary', 'meet', 'stormont', 'political', 'leader', 'many', 'people', 'cross', 'channel', 'small', 'boat', 'come', 'from', 'paper', 'a', 'new', 'iron', 'curtain', '100m', 'royal', 'grenfell', 'tower', 'fire', 'music', 'help', 'young', 'people', 'cope', 'newspaper', 'headline', 'ambulance', 'strike', 'threatens', 'life', 'call', 'taxi', 'liz', 'truss', 'sort', 'prime', 'minister', 'be', 'american', 'turning', 'some', 'of', 'gun', 'british', 'grand', 'prix', 'george', 'russell', 'say', 'formula', '1', 'need', 'learn', 'zhou', 'guanyu', 'crash', 'public', 'sector', 'pay', 'million', 'worker', 'await', 'deal', 'decision', 'chris', 'hipkins', 'uphill', 'battle', 'loom', 'new', 'zealand', 's', 'next', 'pm', 'scan', 'reveal', 'covid', 'may', 'change', 'brain', 'hydra', 'german', 'police', 'dismantled', 'russian', 'darknet', 'site', 'new', 'chatbot', 'everyone', 'talking', 'call', 'extra', 'bank', 'holiday', 'made', 'permanent', 'world', 'cup', '2022', 'iran', 'performance', 'won', 't', 'enough', 'v', 'usa', 'gareth', 'southgate', 'disabled', 'fan', 'treated', 'like', 'animal', 'hearing', 'told', 'ambulance', 'wait', 'can', 'please', 'tell', 'hurry', 'shall', 'dead', 'commonwealth', 'game', 'take', 'big', 'step', 'towards', 'esports', 'england', 'show', 'game', 'glory', 'remarkable', 'test', 'summer', 'sky', 'walkway', 'proposal', 'edinburgh', 's', 'radical', 'road', 'bavaria', 'train', 'crash', 'least', 'four', 'killed', 'german', 'rail', 'accident', 'secondary', 'school', 'place', 'parent', 'find', 'out', 'world', 'cup', '2022', 'england', 'step', 'up', 'wale', 'win', 'show', 'frightening', 'depth', 'gareth', 'southgate', 's', 'squad', 'trip', 'transformed', 'australia', 'china', 'tie', 'five', 'decade', 'fall', 'pound', 'matter', 't20', 'world', 'cup', 'england', 'coach', 'matthew', 'mott', 'say', 'side', 'make', 'widespread', 'change', 'bristol', 'zoo', 'memory', 'major', 'part', 'city', 's', 'life', 'close', 'flu', 'covid', 'could', 'make', 'hard', 'winter', 'uk', 'turkey', 'threatens', 'block', 'finland', 'sweden', 'nato', 'bid', 'epsom', 'college', 'death', 'family', 'tribute', 'head', 'teacher', 'daughter', 'liverpool', '0', '1', 'real', 'madrid', 'red', 'beaten', 'paris', 'vinicius', 'jr', 'hit', 'winner', 'much', 'could', 'mortgage', 'rise', 'try', 'calculator', 'grieving', 'russian', 'can', 't', 'believe', 'talk', 'war', 'crime', 'ukraine', 'mohamed', 'salah', 'liverpool', 'forward', 'anfield', 'next', 'season', 'for', 'sure', 'leader', 'u', 'far', 'right', 'militia', 'guilty', 'inciting', 'rebellion', 'taliban', 'official', 'must', 'sack', 'son', 'given', 'government', 'job', 'andrew', 'tate', 'see', 'luxury', 'villa', 'brother', 'house', 'arrest', 'kourtney', 'kardashian', 's', 'lemme', 'vagina', 'gummies', 'bother', 'say', 'expert', 'nato', 'veto', 'lifted', 'false', 'claim', 'today', 's', 'ukraine', 'round', 'up', 'mortgage', 'happens', 'miss', 'payment', 'virat', 'kohli', 's', 'adelaide', 'record', 'could', 'bad', 'news', 'england', 't20', 'world', 'cup', 'semi', 'final', 'euro', '2024', 'qualifier', 'marcus', 'rashford', 'mason', 'mount', 'nick', 'pope', 'withdraw', 'england', 'squad', 'rugby', 'world', 'cup', 'england', 's', 'marlie', 'packer', 'lead', 'much', 'changed', 'side', 'eurovision', '2022', 'ukraine', 'win', 'uk', 's', 'sam', 'ryder', 'come', 'second', 'priti', 'patel', 'nadine', 'dorries', 'step', 'ahead', 'new', 'pm', 'ukraine', 'crisis', 'west', 'fight', 'back', 'putin', 'disruptor', 'sea', 'turtle', 'navigate', 'boris', 'johnson', 'clash', 'mp', 'partygate', 'denial', 'russian', 'oligarch', 'lambasts', 'country', 's', 'massacre', 'mariupol', 'theatre', 'we', 'knew', 'something', 'terrible', 'would', 'happen', 'we', 'single', 'penny', 'post', 'office', 'i', 've', 'achieve', 'sterling', 'sign', 'chelsea', 'knaresborough', 'litter', 'pick', 'pair', 's', 'car', 'trip', 'live', 'wwi', 'bomb', 'gareth', 'southgate', 'england', 'bos', 'welcome', 'germany', 's', 'decision', 'take', 'knee', 'nation', 'league', 'pug', 'health', 'poor', 'can', 't', 'considered', 'typical', 'dog', 'study', 'may', 'thinking', 'digital', 'twin', 'within', 'decade', 'cost', 'living', 'we', 've', 'got', '30p', 'left', 'prepayment', 'meter', 'ukraine', 'war', 'kyiv', 'reject', 'putin', 's', 'trivial', 'christmas', 'truce', 'notting', 'hill', 'carnival', 'rapper', 'takayo', 'nembhard', 'stabbed', 'death', 'energy', 'website', 'crash', 'meter', 'reading', 'rush', 'gianluigi', 'lentini', 'rise', 'fall', 'world', 's', 'expensive', 'player', 'top', 'chef', 'tip', 'cooking', 'christmas', 'budget', 'mr', 'doodle', 'covered', 'entire', 'house', 'doodle', 'booker', 'prize', '2022', 'sri', 'lankan', 'author', 'shehan', 'karunatilaka', 'win', 'supernatural', 'satire', 'aaron', 'carter', 'backstreet', 'boy', 'star', 'lead', 'tribute', 'late', 'brother', 'dazzling', 'crown', 'sat', 'queen', 's', 'coffin', 'a', 'fantasy', 'amateur', 'jockey', 's', 'grand', 'national', 'fairytale', 'uk', 'falling', 'behind', 'net', 'zero', 'race', 'review', 'find', 'formula', 'milk', 'online', 'group', 'hunt', 'baby', 'milk', 'u', 'shortage', 'tory', 'leadership', 'ballot', 'delayed', 'security', 'fear', 'man', 'found', 'buried', 'garden', 'died', 'stab', 'wound', 'neck', 'kept', 'sexuality', 'secret', 'work', 'kuenssberg', 'need', 'step', 'up', 'keep', 'kid', 'safe', 'online', 'elon', 'musk', 'spending', 'time', 'twitter', 'mission', 'mar', '18', 'shipping', 'container', 'rotting', 'cabbage', 'patrick', 'lyoya', 'could', 'rethink', 'u', 'police', 'traffic', 'stop', 'save', 'life', 'south', 'korea', 'japan', 'milestone', 'meeting', 'frenemies', 'found', 'animal', 'origin', 'covid', 'get', 'cold', 'weather', 'payment', 'much', 'they', 'ukraine', 'war', 'germany', 's', 'conundrum', 'tie', 'russia', 'business', 'rishi', 'sunak', 'asks', 'homeless', 'man', 'shelter', 'visit', 'paper', 'they', 'think', 'sober', 'pm', 's', 'fear', 'woman', 'queen', 's', 'funeral', 'plan', 'happen', 'day', 'turkey', 'huge', 'rally', 'opposition', 's', 'canan', 'kaftancioglu', 'schengen', 'eu', 'border', 'free', 'zone', 'romania', 'bulgaria', 'resident', 'turn', 'putin', 'liberated', 'lyman', 'talking', 'therapy', 'ice', 'cream', 'helping', 'people', 'discus', 'difficult', 'topic', 'harry', 'kane', 'tottenham', 'captain', 'subbed', 'suffering', 'fatigue', 'say', 'antonio', 'conte', 'brazil', 's', 'election', 'campaign', 'turned', 'ugly', 'l', 'lowry', 's', 'going', 'match', 'sell', '7', '8m', 'auction', 'world', 'cup', '2022', 'watch', 'different', 'view', 'jude', 'bellingham', 's', 'brilliant', 'display', 'england', 'senegal', 'puzzle', 'uk', 's', 'half', 'million', 'missing', 'worker', 'scottish', 'bakery', 'morton', 's', 'roll', 'cease', 'trading', 'commonwealth', 'game', 'geraint', 'thomas', 'take', 'time', 'trial', 'bronze', 'fred', 'wright', 'anna', 'henderson', 'win', 'silver', 'baby', 'sticky', 'tape', 'skin', 'test', 'predict', 'eczema', 'risk', 'p', 'o', 'ferry', 'preparing', 'restart', 'dover', 'calais', 'route', 'australia', 'flood', 'i', 'm', 'angry', 'happening', 'again', 'irmgard', 'furchner', 'nazi', 'typist', 'guilty', 'complicity', '10', '500', 'murder', 'john', 'motson', 'reminisces', 'career', 'football', 'commentator', 'josh', 'warrington', 'knock', 'kiko', 'martinez', 'regain', 'ibf', 'featherweight', 'title', 'highlight', 'awaits', 'brittney', 'griner', 'russian', 'penal', 'colony', 'bafta', 'tv', 'award', '2022', 'winner', 'full', 'world', 'cup', '2022', 'lionel', 'messi', 'diego', 'maradona', 's', 'world', 'cup', 'record', 'compared', 'bus', 'funeral', 'procession', 'manchester', 'veteran', 'driver', 'tintagel', 'among', 'castle', 'risk', 'climate', 'change', 'joe', 'lycett', 'asked', 'explain', 'comedy', 'show', 'joke', 'police', 'quadriplegic', 'cerebral', 'palsy', 'mum', 'see', 'son', 'walk', 'first', 'time', 'match', 'day', 'top', '10', 'gary', 'lineker', 'relives', 'barcelona', 'hat', 'trick', 'real', 'madrid', 'london', 'luton', 'airport', 'government', 'hold', 'inquiry', 'growth', 'plan', 'car', 'charging', 'dog', 'hotel', 'seven', 'perk', 'lure', 'office', 'windfall', 'tax', 'oil', 'gas', 'company', 'hosepipe', 'ban', 'area', 'university', 'staff', 'plan', '18', 'new', 'day', 'strike', 'halloween', 'pig', 'headed', 'butcher', 'lead', 'scare', 'aberdare', 'house', 'wrexham', 'man', 'dy', 'bitten', 'dog', 'house', 'maxi', 'jazz', 'tribute', 'hail', 'faithless', 'singer', 'incredible', 'talent', 'afghanistan', 'woman', 's', 'face', 'become', 'latest', 'taliban', 'restriction', 'face', 'veil', 'rule', 'ukraine', 'war', 'night', 'peaceful', 'last', 'trauma', 'air', 'raid', 'full', 'lunar', 'eclipse', 'bring', 'super', 'blood', 'moon', 'scottish', 'island', 'pladda', 'sale', 'price', 'city', 'flat', 'keely', 'hodgkinson', 'expecting', 'herself', 'eugene', 'six', 'nation', 'uini', 'atonio', 'banned', 'dangerous', 'tackle', 'rob', 'herring', 'ukraine', 'war', 'nurse', 'lost', 'leg', 'first', 'dance', 'husband', 'hospital', 'scottie', 'scheffler', 'win', 'player', 'championship', 'sawgrass', 'tyrrell', 'hatton', 'second', 'one', 'poorest', 'slum', 'argentina', 'family', 'rely', 'huge', 'landfill', 'site', 'food', 'liz', 'truss', 'resigns', 'race', 'kick', 'find', 'successor', 'within', 'week', 'bristol', 'longboarding', 'group', 'a', 'blessing', 'lockdown', 'week', 'picture', '29', 'october', '4', 'november', '2022', 'free', 'childcare', 'plan', 'why', 'wait', 'trespasser', 'cause', 'severe', 'rail', 'disruption', 'partygoer', 'dr', 'congo', 'my', 'life', 'changed', 'thanks', 'coffee', 'female', 'dance', 'act', 'largely', 'ignored', 'radio', 'study', 'say', 'bbc', 'unveils', 'modernised', 'flagship', 'tv', 'news', 'studio', 'chelsea', '2', '2', 'tottenham', 'thomas', 'tuchel', 'say', 'match', 'sucked', 'in', 'antonio', 'conte', 'saw', 'red', 'german', 'master', 'ali', 'carter', 'beat', 'tom', 'ford', 'bit', 'help', 'whitney', 'houston', 'week', 'picture', '5', '11', 'march', '2022', 'uvalde', 'school', 'shooting', 'embattled', 'police', 'chief', 'put', 'leave', 'former', 'airline', 'worker', 'it', 'would', 'like', 'going', 'back', 'ex', 'david', 'beckham', 'hand', 'instagram', 'account', 'ukrainian', 'doctor', 'leah', 'croucher', 'quiet', 'teenager', 'vanished', 'way', 'work', 'ukraine', 'round', 'up', 'mariupol', 'civilian', 'remain', 'trapped', 'russian', 'oligarch', 'decries', 'massacre', 'aek', 'larnaca', '0', '2', 'west', 'ham', 'visitor', 'close', 'europa', 'conference', 'league', 'quarter', 'final', 'ukraine', 'war', 'ally', 'seek', 'security', 'zaporizhzhia', 'nuclear', 'plant', 'transgender', 'child', 'texas', 'plan', 'probe', 'parent', 'halted', 'australia', 'election', 'simple', 'guide', 'ukrainian', 'president', 'volodymyr', 'zelensky', 'address', 'irish', 'parliament', 'joe', 'cordina', 'welshman', 'win', 'ibf', 'super', 'featherweight', 'title', 'energy', 'price', 'cap', 'high', 'bill', 'go', 'premiership', 'northampton', 'saint', '32', '31', 'harlequin', 'james', 'grayson', 'penalty', 'seal', 'dramatic', 'win', 'deborah', 'james', 'passionate', 'vision', '6', '8m', 'raised', 'u', 'midterm', 'bbc', 's', 'voter', 'profile', 'shown', 'hate', 'disinformation', 'online', 'sri', 'lankans', 'protesting', 'street', 'grooming', 'gang', 'ethnicity', 'evidence', 'say', 'piccadilly', 'circus', 'new', 'screen', 'make', 'landmark', 'bolder', 'brighter', 'refugee', 'wale', 'thank', 'god', 'came', 'home', 'bombed', 'nasa', 's', 'orion', 'spacecraft', 'homeward', 'bound', 'anime', 'japanese', 'animation', 'taken', 'west', 'storm', 'samantha', 'cristoforetti', 'astronaut', 'taking', 'tiktok', 'new', 'height', 'thank', 'you', 'king', 'brazil', 'light', 'pele', 'master', 'scottie', 'scheffler', 'win', 'first', 'major', 'rory', 'mcilroy', 'finish', 'second', 'crown', 'queen', 's', 'friend', 'say', 'netflix', 'show', 'make', 'angry', 'hidden', 'history', 'scotland', 's', 'biggest', 'nuclear', 'bunker', 'mum', 's', 'warning', 'uterine', 'cancer', 'mistaken', 'period', 'french', 'open', 'dan', 'evans', 'cameron', 'norrie', 'win', 'roland', 'garros', 'harriet', 'dart', 'loses', 'debut', 'grandmother', 'alzheimer', 's', 'face', 'deportation', 'sweden', 'hormone', 'replacement', 'therapy', 'menopause', 'need', 'know', 'hrt', 'woman', 's', 'world', 'cup', 'england', 'set', 'face', 'south', 'africa', 'semi', 'final', 'woman', 's', 'footballer', 'year', 'contender', 'alexia', 'putellas', 'welsh', 'rugby', 'crisis', 'wru', 'sign', 'six', 'year', 'deal', 'four', 'professional', 'team', 'asteroid', 'next', 'big', 'prize', 'space', 'race', 'garth', 'crook', 'team', 'week', 'de', 'gea', 'foden', 'saka', 'ronaldo', 'newcastle', 'starting', 'upset', 'big', 'boy', 'alan', 'shearer', 'magpie', 'top', 'four', 'hope', 'win', 'spur', 'why', 'disabled', 'superhero', 'marvel', 'movie', 'ukraine', 'war', 'i', 'stay', 'ground', '60', 'day', 'girl', 'aloud', 'race', 'sarah', 'harding', 'hyde', 'park', 'roe', 'v', 'wade', 'biden', 'call', 'federal', 'law', 'restore', 'abortion', 'right', 'mind', 'reading', 'combat', 'jet', 'future', 'england', 'scoring', 'record', 'mean', 'everything', 'kane', 'donald', 'trump', 'charged', 'happens', 'next', 'protest', 'iran', 'state', 'run', 'live', 'tv', 'hacked', 'protester', 'quiz', 'week', 'doctor', 'companion', 'back', 'tardis', 'six', 'nation', '2023', 'freddie', 'steward', 's', 'red', 'card', 'ireland', 'called', 'an', 'utter', 'farce', 'strep', 'a', 'penarth', 'primary', 'school', 'child', 'dy', 'disease', 'uk', 'election', '2022', 'really', 'simple', 'guide', 'pension', 'lifetime', 'annual', 'allowance', 'changing', 'transfer', 'rumour', 'calvert', 'lewin', 'pogba', 'lewandowski', 'sterling', 'guardiola', 'rice', 'benjamin', 'mendy', 'woman', 'woke', 'footballer', 'raping', 'her', 'court', 'told', 'brit', 'award', 'wet', 'leg', 'rina', 'sawayama', 'urge', 'change', 'female', 'nominee', 'liege', 'bastogne', 'liege', 'cycling', 's', 'oldest', 'spring', 'classic', 'celebrates', '130', 'year', 'torture', 'john', 'travolta', 'pose', 'photo', 'norfolk', 'morrison', 'wetherspoon', 'covid', 'happened', 'care', 'home', 'early', 'pandemic', 'laver', 'cup', 'andy', 'murray', 'planning', 'roger', 'federer', 'style', 'farewell', 'europe', 'lose', 'celtic', 'ease', 'dundee', 'utd', 'scottish', 'cup', 'last', 'four', 'student', 'loan', 'work', 'borrow', 'pay', 'back', 'billie', 'eilish', 'protest', 'u', 'abortion', 'ruling', 'glastonbury', 'naga', 'fit', 'laughter', 'charlie', 's', 'mar', 'musing', 'england', 'v', 'india', 'harmanpreet', 'kaur', 'hit', 'masterful', 'century', 'lead', 'india', 'odi', 'series', 'win', 'johnson', 'partygate', 'avoided', 'physical', 'contact', 'passed', 'drink', 'story', 'last', 'surviving', 'ww2', 'veteran', 'frenkie', 'de', 'jong', 'manchester', 'united', 'contact', 'barcelona', 'midfielder', 'dominic', 'raab', 'third', 'senior', 'civil', 'servant', 'give', 'evidence', 'bullying', 'probe', 'highlight', 'radacanu', 'beat', 'uytvanck', 'picture', 'mountain', 'bikers', 'descend', 'snowy', 'peak', 'company', 'must', 'help', 'cut', 'living', 'cost', 'say', 'new', 'cost', 'living', 'tsar', 'beware', 'online', 'car', 'sale', 'scam', 'consumer', 'warned'] "
     ]
    }
   ],
   "source": [
    "# Store the cleaned data into a empty string\n",
    "clean_data = sum(titles['lemmatized'], [])\n",
    "print(clean_data, end = \" \")"
   ]
  },
  {
   "cell_type": "code",
   "execution_count": 71,
   "id": "0eb0bfd4-2536-43b0-ae3d-a41511e6138c",
   "metadata": {},
   "outputs": [],
   "source": [
    "# POS Tagging \n",
    "import spacy\n",
    "nlp = spacy.load(\"en_core_web_sm\")"
   ]
  },
  {
   "cell_type": "code",
   "execution_count": 72,
   "id": "275df915-7779-49ac-b119-16de0675655c",
   "metadata": {},
   "outputs": [],
   "source": [
    "spacy_doc = nlp(' '.join(clean_data)) # Converting list into string \n"
   ]
  },
  {
   "cell_type": "code",
   "execution_count": 76,
   "id": "7722795a-7f28-45f9-9e4b-f4dad7a4a812",
   "metadata": {},
   "outputs": [
    {
     "data": {
      "text/html": [
       "<div>\n",
       "<style scoped>\n",
       "    .dataframe tbody tr th:only-of-type {\n",
       "        vertical-align: middle;\n",
       "    }\n",
       "\n",
       "    .dataframe tbody tr th {\n",
       "        vertical-align: top;\n",
       "    }\n",
       "\n",
       "    .dataframe thead th {\n",
       "        text-align: right;\n",
       "    }\n",
       "</style>\n",
       "<table border=\"1\" class=\"dataframe\">\n",
       "  <thead>\n",
       "    <tr style=\"text-align: right;\">\n",
       "      <th></th>\n",
       "      <th>token</th>\n",
       "      <th>pos_tag</th>\n",
       "    </tr>\n",
       "  </thead>\n",
       "  <tbody>\n",
       "    <tr>\n",
       "      <th>0</th>\n",
       "      <td>refuse</td>\n",
       "      <td>AUX</td>\n",
       "    </tr>\n",
       "    <tr>\n",
       "      <th>1</th>\n",
       "      <td>work</td>\n",
       "      <td>NOUN</td>\n",
       "    </tr>\n",
       "    <tr>\n",
       "      <th>2</th>\n",
       "      <td>liz</td>\n",
       "      <td>PROPN</td>\n",
       "    </tr>\n",
       "    <tr>\n",
       "      <th>3</th>\n",
       "      <td>truss</td>\n",
       "      <td>ADJ</td>\n",
       "    </tr>\n",
       "    <tr>\n",
       "      <th>4</th>\n",
       "      <td>brief</td>\n",
       "      <td>ADJ</td>\n",
       "    </tr>\n",
       "  </tbody>\n",
       "</table>\n",
       "</div>"
      ],
      "text/plain": [
       "    token pos_tag\n",
       "0  refuse     AUX\n",
       "1    work    NOUN\n",
       "2     liz   PROPN\n",
       "3   truss     ADJ\n",
       "4   brief     ADJ"
      ]
     },
     "execution_count": 76,
     "metadata": {},
     "output_type": "execute_result"
    }
   ],
   "source": [
    "records = []\n",
    "for token in spacy_doc:\n",
    "    records.append({'token': token.text,'pos_tag': token.pos_})\n",
    "pos_df = pd.DataFrame(records)\n",
    "pos_df.head()"
   ]
  },
  {
   "cell_type": "code",
   "execution_count": 77,
   "id": "0bb8e58a-ea5e-456f-b9cf-dcfe6794e2f7",
   "metadata": {},
   "outputs": [
    {
     "data": {
      "text/html": [
       "<div>\n",
       "<style scoped>\n",
       "    .dataframe tbody tr th:only-of-type {\n",
       "        vertical-align: middle;\n",
       "    }\n",
       "\n",
       "    .dataframe tbody tr th {\n",
       "        vertical-align: top;\n",
       "    }\n",
       "\n",
       "    .dataframe thead th {\n",
       "        text-align: right;\n",
       "    }\n",
       "</style>\n",
       "<table border=\"1\" class=\"dataframe\">\n",
       "  <thead>\n",
       "    <tr style=\"text-align: right;\">\n",
       "      <th></th>\n",
       "      <th>token</th>\n",
       "      <th>pos_tag</th>\n",
       "      <th>counts</th>\n",
       "    </tr>\n",
       "  </thead>\n",
       "  <tbody>\n",
       "    <tr>\n",
       "      <th>2978</th>\n",
       "      <td>s</td>\n",
       "      <td>PART</td>\n",
       "      <td>142</td>\n",
       "    </tr>\n",
       "    <tr>\n",
       "      <th>24</th>\n",
       "      <td>2022</td>\n",
       "      <td>NUM</td>\n",
       "      <td>47</td>\n",
       "    </tr>\n",
       "    <tr>\n",
       "      <th>1154</th>\n",
       "      <td>england</td>\n",
       "      <td>PROPN</td>\n",
       "      <td>46</td>\n",
       "    </tr>\n",
       "    <tr>\n",
       "      <th>862</th>\n",
       "      <td>cup</td>\n",
       "      <td>PROPN</td>\n",
       "      <td>39</td>\n",
       "    </tr>\n",
       "    <tr>\n",
       "      <th>3665</th>\n",
       "      <td>uk</td>\n",
       "      <td>PROPN</td>\n",
       "      <td>37</td>\n",
       "    </tr>\n",
       "  </tbody>\n",
       "</table>\n",
       "</div>"
      ],
      "text/plain": [
       "        token pos_tag  counts\n",
       "2978        s    PART     142\n",
       "24       2022     NUM      47\n",
       "1154  england   PROPN      46\n",
       "862       cup   PROPN      39\n",
       "3665       uk   PROPN      37"
      ]
     },
     "execution_count": 77,
     "metadata": {},
     "output_type": "execute_result"
    }
   ],
   "source": [
    "pos_df_count = pos_df.groupby(['token','pos_tag']).size().reset_index(name = \"counts\").sort_values(by = 'counts',ascending=False)\n",
    "pos_df_count.head()"
   ]
  },
  {
   "cell_type": "code",
   "execution_count": 81,
   "id": "f0381e53-336e-4227-918a-4dcadf6c0b54",
   "metadata": {},
   "outputs": [
    {
     "data": {
      "text/html": [
       "<div>\n",
       "<style scoped>\n",
       "    .dataframe tbody tr th:only-of-type {\n",
       "        vertical-align: middle;\n",
       "    }\n",
       "\n",
       "    .dataframe tbody tr th {\n",
       "        vertical-align: top;\n",
       "    }\n",
       "\n",
       "    .dataframe thead th {\n",
       "        text-align: right;\n",
       "    }\n",
       "</style>\n",
       "<table border=\"1\" class=\"dataframe\">\n",
       "  <thead>\n",
       "    <tr style=\"text-align: right;\">\n",
       "      <th></th>\n",
       "      <th>token</th>\n",
       "      <th>ner_tag</th>\n",
       "    </tr>\n",
       "  </thead>\n",
       "  <tbody>\n",
       "    <tr>\n",
       "      <th>0</th>\n",
       "      <td>russian</td>\n",
       "      <td>NORP</td>\n",
       "    </tr>\n",
       "    <tr>\n",
       "      <th>1</th>\n",
       "      <td>70 year</td>\n",
       "      <td>DATE</td>\n",
       "    </tr>\n",
       "    <tr>\n",
       "      <th>2</th>\n",
       "      <td>70 second</td>\n",
       "      <td>TIME</td>\n",
       "    </tr>\n",
       "    <tr>\n",
       "      <th>3</th>\n",
       "      <td>bull</td>\n",
       "      <td>ORG</td>\n",
       "    </tr>\n",
       "    <tr>\n",
       "      <th>4</th>\n",
       "      <td>1</td>\n",
       "      <td>CARDINAL</td>\n",
       "    </tr>\n",
       "  </tbody>\n",
       "</table>\n",
       "</div>"
      ],
      "text/plain": [
       "       token   ner_tag\n",
       "0    russian      NORP\n",
       "1    70 year      DATE\n",
       "2  70 second      TIME\n",
       "3       bull       ORG\n",
       "4          1  CARDINAL"
      ]
     },
     "execution_count": 81,
     "metadata": {},
     "output_type": "execute_result"
    }
   ],
   "source": [
    "record_ner = []\n",
    "for token in spacy_doc.ents:\n",
    "    record_ner.append({'token': token.text,'ner_tag': token.label_})\n",
    "ner_df = pd.DataFrame(record_ner)\n",
    "ner_df.head()"
   ]
  },
  {
   "cell_type": "code",
   "execution_count": 82,
   "id": "83cd4760-1137-4d93-ad1b-60cf2a1fd1eb",
   "metadata": {},
   "outputs": [
    {
     "data": {
      "text/html": [
       "<div>\n",
       "<style scoped>\n",
       "    .dataframe tbody tr th:only-of-type {\n",
       "        vertical-align: middle;\n",
       "    }\n",
       "\n",
       "    .dataframe tbody tr th {\n",
       "        vertical-align: top;\n",
       "    }\n",
       "\n",
       "    .dataframe thead th {\n",
       "        text-align: right;\n",
       "    }\n",
       "</style>\n",
       "<table border=\"1\" class=\"dataframe\">\n",
       "  <thead>\n",
       "    <tr style=\"text-align: right;\">\n",
       "      <th></th>\n",
       "      <th>token</th>\n",
       "      <th>ner_tag</th>\n",
       "      <th>counts</th>\n",
       "    </tr>\n",
       "  </thead>\n",
       "  <tbody>\n",
       "    <tr>\n",
       "      <th>40</th>\n",
       "      <td>2022</td>\n",
       "      <td>CARDINAL</td>\n",
       "      <td>26</td>\n",
       "    </tr>\n",
       "    <tr>\n",
       "      <th>472</th>\n",
       "      <td>russian</td>\n",
       "      <td>NORP</td>\n",
       "      <td>25</td>\n",
       "    </tr>\n",
       "    <tr>\n",
       "      <th>242</th>\n",
       "      <td>first</td>\n",
       "      <td>ORDINAL</td>\n",
       "      <td>17</td>\n",
       "    </tr>\n",
       "    <tr>\n",
       "      <th>41</th>\n",
       "      <td>2022</td>\n",
       "      <td>DATE</td>\n",
       "      <td>15</td>\n",
       "    </tr>\n",
       "    <tr>\n",
       "      <th>252</th>\n",
       "      <td>france</td>\n",
       "      <td>GPE</td>\n",
       "      <td>10</td>\n",
       "    </tr>\n",
       "  </tbody>\n",
       "</table>\n",
       "</div>"
      ],
      "text/plain": [
       "       token   ner_tag  counts\n",
       "40      2022  CARDINAL      26\n",
       "472  russian      NORP      25\n",
       "242    first   ORDINAL      17\n",
       "41      2022      DATE      15\n",
       "252   france       GPE      10"
      ]
     },
     "execution_count": 82,
     "metadata": {},
     "output_type": "execute_result"
    }
   ],
   "source": [
    "ner_df_count = ner_df.groupby(['token','ner_tag']).size().reset_index(name = \"counts\").sort_values(by = 'counts',ascending=False)\n",
    "ner_df_count.head()"
   ]
  },
  {
   "cell_type": "code",
   "execution_count": null,
   "id": "6d53a7b3-0abd-42ad-8795-f86aa03fb58c",
   "metadata": {},
   "outputs": [],
   "source": []
  }
 ],
 "metadata": {
  "kernelspec": {
   "display_name": "Python (nlp_course_env)",
   "language": "python",
   "name": "nlp_course_env"
  },
  "language_info": {
   "codemirror_mode": {
    "name": "ipython",
    "version": 3
   },
   "file_extension": ".py",
   "mimetype": "text/x-python",
   "name": "python",
   "nbconvert_exporter": "python",
   "pygments_lexer": "ipython3",
   "version": "3.11.13"
  }
 },
 "nbformat": 4,
 "nbformat_minor": 5
}
