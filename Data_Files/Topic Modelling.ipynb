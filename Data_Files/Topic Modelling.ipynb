{
 "cells": [
  {
   "cell_type": "code",
   "execution_count": 10,
   "id": "8acefa40-30a2-4be3-a19d-c6a3c978760c",
   "metadata": {},
   "outputs": [],
   "source": [
    "import pandas as pd\n",
    "import re\n",
    "from nltk.corpus import stopwords\n",
    "from nltk.stem import PorterStemmer\n",
    "from nltk.tokenize import word_tokenize\n",
    "import gensim\n",
    "import gensim.corpora as corpora"
   ]
  },
  {
   "cell_type": "code",
   "execution_count": 11,
   "id": "c4ee74e2-2f42-4ff1-8384-7540ba2963de",
   "metadata": {},
   "outputs": [],
   "source": [
    "data = pd.read_csv(r\"D:\\Anaconda\\news_articles.csv\")\n",
    "articles = data['content']"
   ]
  },
  {
   "cell_type": "code",
   "execution_count": 12,
   "id": "13b70cf1-b6c4-4b8e-bacf-978757107d3d",
   "metadata": {},
   "outputs": [],
   "source": [
    "# Removing Punctuations and making lowercase\n",
    "articles = articles.astype(str).str.lower().apply(lambda x : (re.sub(r\"[^\\w\\s]\", \" \", x)))\n",
    "\n",
    "# Removing stopwords\n",
    "en_stopwords = stopwords.words('english')\n",
    "articles = articles.apply(lambda x : ' '.join([word for word in x.split() if word not in (en_stopwords)]))\n",
    "\n",
    "# Tokenize text into words\n",
    "articles = articles.apply(lambda x : word_tokenize(x))\n",
    "\n",
    "# Stemming the words ( Lemmatizing is not used as it will take lots of data and time to process)\n",
    "ps = PorterStemmer()\n",
    "articles = articles.apply(lambda tokens : [ps.stem(token) for token in tokens])"
   ]
  },
  {
   "cell_type": "code",
   "execution_count": 13,
   "id": "b77ebd4f-fe85-4b0f-9679-5a118ab79c5d",
   "metadata": {},
   "outputs": [
    {
     "name": "stdout",
     "output_type": "stream",
     "text": [
      "Dictionary<8635 unique tokens: ['10', '100', '108', '15', '155']...>\n"
     ]
    }
   ],
   "source": [
    "dictionary = corpora.Dictionary(articles)\n",
    "print (dictionary)"
   ]
  },
  {
   "cell_type": "code",
   "execution_count": 14,
   "id": "f438c07f-61c1-4649-94ff-942fab6b7fd8",
   "metadata": {},
   "outputs": [],
   "source": [
    "doc_term = [dictionary.doc2bow(text) for text in articles]\n"
   ]
  },
  {
   "cell_type": "code",
   "execution_count": 15,
   "id": "723a98f8-14c5-4b4f-ad3e-9b476933a75e",
   "metadata": {},
   "outputs": [
    {
     "data": {
      "text/plain": [
       "[(0,\n",
       "  '0.020*\"mr\" + 0.015*\"said\" + 0.010*\"trump\" + 0.004*\"would\" + 0.004*\"state\"'),\n",
       " (1, '0.015*\"mr\" + 0.014*\"said\" + 0.005*\"one\" + 0.004*\"new\" + 0.004*\"would\"'),\n",
       " (2,\n",
       "  '0.015*\"mr\" + 0.015*\"said\" + 0.005*\"state\" + 0.005*\"would\" + 0.004*\"one\"')]"
      ]
     },
     "execution_count": 15,
     "metadata": {},
     "output_type": "execute_result"
    }
   ],
   "source": [
    "num_topics = 3\n",
    "lda_model = gensim.models.LdaModel(corpus = doc_term, id2word = dictionary, num_topics = num_topics)\n",
    "lda_model.print_topics(num_topics=num_topics,num_words = 5)"
   ]
  },
  {
   "cell_type": "code",
   "execution_count": 16,
   "id": "8d61c008-161f-4f68-b67a-6298b3fbe108",
   "metadata": {},
   "outputs": [],
   "source": [
    "from gensim.models import LsiModel"
   ]
  },
  {
   "cell_type": "code",
   "execution_count": 17,
   "id": "a6dc67ad-c8c1-433b-85ae-0498b78b025b",
   "metadata": {},
   "outputs": [
    {
     "name": "stdout",
     "output_type": "stream",
     "text": [
      "[(0, '0.616*\"mr\" + 0.430*\"said\" + 0.188*\"trump\" + 0.131*\"state\" + 0.119*\"would\"'), (1, '-0.537*\"mr\" + -0.319*\"trump\" + 0.286*\"said\" + 0.243*\"saudi\" + 0.143*\"weight\"'), (2, '0.459*\"saudi\" + 0.264*\"taliban\" + -0.255*\"weight\" + -0.194*\"dr\" + 0.193*\"afghanistan\"')]\n"
     ]
    }
   ],
   "source": [
    "lsi_model = LsiModel(corpus = doc_term, id2word = dictionary, num_topics = num_topics)\n",
    "print(lsi_model.print_topics(num_topics = num_topics, num_words = 5))"
   ]
  },
  {
   "cell_type": "code",
   "execution_count": 29,
   "id": "70380b6d-dd24-4efd-a2ab-9374317e6353",
   "metadata": {},
   "outputs": [],
   "source": [
    "from gensim.models.coherencemodel import CoherenceModel\n",
    "import matplotlib.pyplot as plt"
   ]
  },
  {
   "cell_type": "code",
   "execution_count": 30,
   "id": "aaa71af1-854a-4df5-9d24-6d449e2e187f",
   "metadata": {},
   "outputs": [],
   "source": [
    "coherence_values = []\n",
    "model_list = []\n",
    "min_topics = 2\n",
    "max_topics = 11"
   ]
  },
  {
   "cell_type": "code",
   "execution_count": 31,
   "id": "32bd2870-89cb-4728-9263-5f06476a005b",
   "metadata": {},
   "outputs": [],
   "source": [
    "for num_topics_i in range(min_topics, max_topics+1):\n",
    "   model = LsiModel(corpus = doc_term,id2word = dictionary, num_topics = num_topics)\n",
    "   model_list.append(model)\n",
    "   coherence_model = CoherenceModel(model = model, texts=articles,dictionary = dictionary, coherence = 'c_v')\n",
    "   coherence_values.append(coherence_model.get_coherence())"
   ]
  },
  {
   "cell_type": "code",
   "execution_count": 32,
   "id": "e4d8ea80-90ee-4530-836f-d01b070c1ccb",
   "metadata": {},
   "outputs": [
    {
     "data": {
      "text/plain": [
       "[<matplotlib.lines.Line2D at 0x187b497bd90>]"
      ]
     },
     "execution_count": 32,
     "metadata": {},
     "output_type": "execute_result"
    },
    {
     "data": {
      "image/png": "[encoded data removed]",
      "text/plain": [
       "<Figure size 640x480 with 1 Axes>"
      ]
     },
     "metadata": {},
     "output_type": "display_data"
    }
   ],
   "source": [
    "plt.plot(range(min_topics,max_topics+1),coherence_values)"
   ]
  },
  {
   "cell_type": "code",
   "execution_count": 33,
   "id": "25fc4690-30c4-4d74-ac75-f356ac8a597a",
   "metadata": {},
   "outputs": [
    {
     "data": {
      "text/plain": [
       "[(0, '0.017*\"mr\" + 0.017*\"said\" + 0.005*\"one\" + 0.005*\"peopl\" + 0.004*\"year\"'),\n",
       " (1,\n",
       "  '0.022*\"mr\" + 0.012*\"said\" + 0.007*\"trump\" + 0.004*\"would\" + 0.004*\"one\"'),\n",
       " (2,\n",
       "  '0.018*\"mr\" + 0.015*\"said\" + 0.007*\"trump\" + 0.006*\"state\" + 0.005*\"would\"'),\n",
       " (3,\n",
       "  '0.017*\"mr\" + 0.016*\"said\" + 0.005*\"state\" + 0.005*\"would\" + 0.005*\"year\"'),\n",
       " (4, '0.010*\"mr\" + 0.010*\"said\" + 0.006*\"trump\" + 0.004*\"one\" + 0.004*\"ms\"'),\n",
       " (5,\n",
       "  '0.022*\"mr\" + 0.015*\"said\" + 0.005*\"trump\" + 0.005*\"would\" + 0.004*\"like\"'),\n",
       " (6,\n",
       "  '0.020*\"said\" + 0.015*\"mr\" + 0.005*\"would\" + 0.005*\"trump\" + 0.005*\"year\"'),\n",
       " (7,\n",
       "  '0.012*\"mr\" + 0.011*\"said\" + 0.008*\"trump\" + 0.004*\"one\" + 0.004*\"would\"')]"
      ]
     },
     "execution_count": 33,
     "metadata": {},
     "output_type": "execute_result"
    }
   ],
   "source": [
    "num_topics = 8\n",
    "lda_model = gensim.models.LdaModel(corpus = doc_term, id2word = dictionary, num_topics = num_topics)\n",
    "lda_model.print_topics(num_topics=num_topics,num_words = 5)"
   ]
  },
  {
   "cell_type": "code",
   "execution_count": null,
   "id": "43602314-35a6-4ed4-9c3b-0f9d18b38f1e",
   "metadata": {},
   "outputs": [],
   "source": []
  }
 ],
 "metadata": {
  "kernelspec": {
   "display_name": "Python (nlp_course_env)",
   "language": "python",
   "name": "nlp_course_env"
  },
  "language_info": {
   "codemirror_mode": {
    "name": "ipython",
    "version": 3
   },
   "file_extension": ".py",
   "mimetype": "text/x-python",
   "name": "python",
   "nbconvert_exporter": "python",
   "pygments_lexer": "ipython3",
   "version": "3.11.13"
  }
 },
 "nbformat": 4,
 "nbformat_minor": 5
}
