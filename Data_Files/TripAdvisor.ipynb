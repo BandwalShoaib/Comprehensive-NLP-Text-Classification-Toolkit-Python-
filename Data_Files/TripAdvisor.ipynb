{
 "cells": [
  {
   "cell_type": "code",
   "execution_count": 1,
   "id": "fec9e249-d4ef-492b-9661-e29cc93eecc9",
   "metadata": {},
   "outputs": [
    {
     "name": "stderr",
     "output_type": "stream",
     "text": [
      "[nltk_data] Downloading package wordnet to\n",
      "[nltk_data]     C:\\Users\\ADMIN\\AppData\\Roaming\\nltk_data...\n",
      "[nltk_data]   Package wordnet is already up-to-date!\n"
     ]
    }
   ],
   "source": [
    "import nltk\n",
    "from nltk.tokenize import word_tokenize,sent_tokenize\n",
    "from nltk.stem import PorterStemmer, WordNetLemmatizer\n",
    "nltk.download('wordnet')\n",
    "from nltk.corpus import stopwords\n",
    "import re\n",
    "import pandas as pd\n",
    "import matplotlib.pyplot as plt"
   ]
  },
  {
   "cell_type": "code",
   "execution_count": 2,
   "id": "3cae70e3-9ac6-4770-baec-1f691f49e082",
   "metadata": {},
   "outputs": [],
   "source": [
    "data = pd.read_csv(r\"D:\\Anaconda\\tripadvisor_hotel_reviews.csv\") # Import dataset from the local file"
   ]
  },
  {
   "cell_type": "code",
   "execution_count": 3,
   "id": "4cf55df6-5a28-4d5d-b914-5bdff5eaec31",
   "metadata": {},
   "outputs": [
    {
     "name": "stdout",
     "output_type": "stream",
     "text": [
      "<class 'pandas.core.frame.DataFrame'>\n",
      "RangeIndex: 109 entries, 0 to 108\n",
      "Data columns (total 2 columns):\n",
      " #   Column  Non-Null Count  Dtype \n",
      "---  ------  --------------  ----- \n",
      " 0   Review  109 non-null    object\n",
      " 1   Rating  109 non-null    int64 \n",
      "dtypes: int64(1), object(1)\n",
      "memory usage: 1.8+ KB\n"
     ]
    }
   ],
   "source": [
    "data.info()"
   ]
  },
  {
   "cell_type": "code",
   "execution_count": 4,
   "id": "48a7b9d8-06f8-4f74-b920-56720eeaad59",
   "metadata": {},
   "outputs": [
    {
     "data": {
      "text/html": [
       "<div>\n",
       "<style scoped>\n",
       "    .dataframe tbody tr th:only-of-type {\n",
       "        vertical-align: middle;\n",
       "    }\n",
       "\n",
       "    .dataframe tbody tr th {\n",
       "        vertical-align: top;\n",
       "    }\n",
       "\n",
       "    .dataframe thead th {\n",
       "        text-align: right;\n",
       "    }\n",
       "</style>\n",
       "<table border=\"1\" class=\"dataframe\">\n",
       "  <thead>\n",
       "    <tr style=\"text-align: right;\">\n",
       "      <th></th>\n",
       "      <th>Review</th>\n",
       "      <th>Rating</th>\n",
       "    </tr>\n",
       "  </thead>\n",
       "  <tbody>\n",
       "    <tr>\n",
       "      <th>0</th>\n",
       "      <td>nice hotel expensive parking got good deal sta...</td>\n",
       "      <td>4</td>\n",
       "    </tr>\n",
       "    <tr>\n",
       "      <th>1</th>\n",
       "      <td>ok nothing special charge diamond member hilto...</td>\n",
       "      <td>2</td>\n",
       "    </tr>\n",
       "    <tr>\n",
       "      <th>2</th>\n",
       "      <td>nice rooms not 4* experience hotel monaco seat...</td>\n",
       "      <td>3</td>\n",
       "    </tr>\n",
       "    <tr>\n",
       "      <th>3</th>\n",
       "      <td>unique, great stay, wonderful time hotel monac...</td>\n",
       "      <td>5</td>\n",
       "    </tr>\n",
       "    <tr>\n",
       "      <th>4</th>\n",
       "      <td>great stay great stay, went seahawk game aweso...</td>\n",
       "      <td>5</td>\n",
       "    </tr>\n",
       "  </tbody>\n",
       "</table>\n",
       "</div>"
      ],
      "text/plain": [
       "                                              Review  Rating\n",
       "0  nice hotel expensive parking got good deal sta...       4\n",
       "1  ok nothing special charge diamond member hilto...       2\n",
       "2  nice rooms not 4* experience hotel monaco seat...       3\n",
       "3  unique, great stay, wonderful time hotel monac...       5\n",
       "4  great stay great stay, went seahawk game aweso...       5"
      ]
     },
     "execution_count": 4,
     "metadata": {},
     "output_type": "execute_result"
    }
   ],
   "source": [
    "data.head()"
   ]
  },
  {
   "cell_type": "code",
   "execution_count": 5,
   "id": "7e4171c5-4d7a-4400-9eaf-167357928af9",
   "metadata": {},
   "outputs": [
    {
     "data": {
      "text/plain": [
       "'nice hotel expensive parking got good deal stay hotel anniversary, arrived late evening took advice previous reviews did valet parking, check quick easy, little disappointed non-existent view room room clean nice size, bed comfortable woke stiff neck high pillows, not soundproof like heard music room night morning loud bangs doors opening closing hear people talking hallway, maybe just noisy neighbors, aveda bath products nice, did not goldfish stay nice touch taken advantage staying longer, location great walking distance shopping, overall nice experience having pay 40 parking night,  '"
      ]
     },
     "execution_count": 5,
     "metadata": {},
     "output_type": "execute_result"
    }
   ],
   "source": [
    "data['Review'][0]"
   ]
  },
  {
   "cell_type": "code",
   "execution_count": 6,
   "id": "6d2d44f7-c60f-4cb6-b605-139949ad00e3",
   "metadata": {},
   "outputs": [
    {
     "data": {
      "text/plain": [
       "0      nice hotel expensive parking got good deal sta...\n",
       "1      ok nothing special charge diamond member hilto...\n",
       "2      nice rooms not 4* experience hotel monaco seat...\n",
       "3      unique, great stay, wonderful time hotel monac...\n",
       "4      great stay great stay, went seahawk game aweso...\n",
       "                             ...                        \n",
       "104    fairmont hotel singapore splendid, stayed fair...\n",
       "105    great hotel stayed hotel night route perth chr...\n",
       "106    great hotel centre stayed 5 nights room overlo...\n",
       "107    great location great value great hotel husband...\n",
       "108    lovely hotel great location stayed vacation to...\n",
       "Name: review_lower, Length: 109, dtype: object"
      ]
     },
     "execution_count": 6,
     "metadata": {},
     "output_type": "execute_result"
    }
   ],
   "source": [
    "data['review_lower'] = data['Review'].str.lower()  # Make the dataset into lowercase\n",
    "data['review_lower']"
   ]
  },
  {
   "cell_type": "code",
   "execution_count": 7,
   "id": "963cb09a-6631-4a1d-b5d7-262c452e362f",
   "metadata": {},
   "outputs": [],
   "source": [
    "en_stopwords = stopwords.words('english') # Store all the stopwords from enlish language in en_stopwords\n",
    "en_stopwords.remove('not') # Remove the word \"not\" from the stopwords list\n"
   ]
  },
  {
   "cell_type": "code",
   "execution_count": 8,
   "id": "47190225-80e0-4840-b915-5c20d45b6d02",
   "metadata": {},
   "outputs": [],
   "source": [
    "data['review_nostopwords'] = data['review_lower'].apply(lambda x : \" \".join([words for words in x.split() if words not in en_stopwords])) # Using lambda function remove all the stopwords"
   ]
  },
  {
   "cell_type": "code",
   "execution_count": 9,
   "id": "00ba422f-d3ca-4173-b3f6-8b826b86c60a",
   "metadata": {},
   "outputs": [
    {
     "data": {
      "text/plain": [
       "'nice hotel expensive parking got good deal stay hotel anniversary, arrived late evening took advice previous reviews valet parking, check quick easy, little disappointed non-existent view room room clean nice size, bed comfortable woke stiff neck high pillows, not soundproof like heard music room night morning loud bangs doors opening closing hear people talking hallway, maybe noisy neighbors, aveda bath products nice, not goldfish stay nice touch taken advantage staying longer, location great walking distance shopping, overall nice experience pay 40 parking night,'"
      ]
     },
     "execution_count": 9,
     "metadata": {},
     "output_type": "execute_result"
    }
   ],
   "source": [
    "data['review_nostopwords'][0]"
   ]
  },
  {
   "cell_type": "code",
   "execution_count": 10,
   "id": "b921949d-1ea5-407d-bdbb-d252bd82067f",
   "metadata": {},
   "outputs": [],
   "source": [
    "data['review_nostopwords_nopunct'] = data['review_nostopwords'].apply(lambda x: (re.sub(r\"\\*\", \"star\", x))) # Subtitue \"*\" with \"star\"\n",
    "data['review_nostopwords_nopunct'] = data['review_nostopwords'].apply(lambda x: (re.sub(r\"[^\\w\\s]\", \" \", x))) # Remove all the punctuations "
   ]
  },
  {
   "cell_type": "code",
   "execution_count": 11,
   "id": "595be098-b775-4bd5-b43d-cc6935a96d14",
   "metadata": {},
   "outputs": [
    {
     "data": {
      "text/plain": [
       "'nice rooms not 4  experience hotel monaco seattle good hotel n t 4  level positives large bathroom mediterranean suite comfortable bed pillowsattentive housekeeping staffnegatives ac unit malfunctioned stay desk disorganized  missed 3 separate wakeup calls  concierge busy hard touch  n t provide guidance special requests tv hard use ipod sound dock suite non functioning  decided book mediterranean suite 3 night weekend stay 1st choice rest party filled  comparison w spent 45 night larger square footage room great soaking tub whirlpool jets nice shower before stay hotel arrange car service price 53 tip reasonable driver waiting arrival checkin easy downside room picked 2 person jacuzi tub bath accessories salts bubble bath n t stay  night got 12 1a checked voucher bottle champagne nice gesture fish waiting room  impression room huge open space felt room big  tv far away bed chore change channel  ipod dock broken disappointing in morning way asked desk check thermostat said 65f 74 2 degrees warm try cover face night bright blue light kept  got room night no  1st drop desk  called maintainence came look thermostat told play settings happy digital box wo n t work  asked wakeup 10am morning n t happen  called later 6pm nap wakeup forgot  10am wakeup morning yep forgotten the bathroom facilities great room surprised room sold whirlpool bath tub n t bath amenities  great relax water jets going '"
      ]
     },
     "execution_count": 11,
     "metadata": {},
     "output_type": "execute_result"
    }
   ],
   "source": [
    "data['review_nostopwords_nopunct'] [2]"
   ]
  },
  {
   "cell_type": "code",
   "execution_count": 18,
   "id": "856c578d-9376-4a32-95f6-bbcc8f741fbe",
   "metadata": {},
   "outputs": [
    {
     "data": {
      "text/plain": [
       "['nice',\n",
       " 'hotel',\n",
       " 'expensive',\n",
       " 'parking',\n",
       " 'got',\n",
       " 'good',\n",
       " 'deal',\n",
       " 'stay',\n",
       " 'hotel',\n",
       " 'anniversary',\n",
       " 'arrived',\n",
       " 'late',\n",
       " 'evening',\n",
       " 'took',\n",
       " 'advice',\n",
       " 'previous',\n",
       " 'reviews',\n",
       " 'valet',\n",
       " 'parking',\n",
       " 'check',\n",
       " 'quick',\n",
       " 'easy',\n",
       " 'little',\n",
       " 'disappointed',\n",
       " 'non',\n",
       " 'existent',\n",
       " 'view',\n",
       " 'room',\n",
       " 'room',\n",
       " 'clean',\n",
       " 'nice',\n",
       " 'size',\n",
       " 'bed',\n",
       " 'comfortable',\n",
       " 'woke',\n",
       " 'stiff',\n",
       " 'neck',\n",
       " 'high',\n",
       " 'pillows',\n",
       " 'not',\n",
       " 'soundproof',\n",
       " 'like',\n",
       " 'heard',\n",
       " 'music',\n",
       " 'room',\n",
       " 'night',\n",
       " 'morning',\n",
       " 'loud',\n",
       " 'bangs',\n",
       " 'doors',\n",
       " 'opening',\n",
       " 'closing',\n",
       " 'hear',\n",
       " 'people',\n",
       " 'talking',\n",
       " 'hallway',\n",
       " 'maybe',\n",
       " 'noisy',\n",
       " 'neighbors',\n",
       " 'aveda',\n",
       " 'bath',\n",
       " 'products',\n",
       " 'nice',\n",
       " 'not',\n",
       " 'goldfish',\n",
       " 'stay',\n",
       " 'nice',\n",
       " 'touch',\n",
       " 'taken',\n",
       " 'advantage',\n",
       " 'staying',\n",
       " 'longer',\n",
       " 'location',\n",
       " 'great',\n",
       " 'walking',\n",
       " 'distance',\n",
       " 'shopping',\n",
       " 'overall',\n",
       " 'nice',\n",
       " 'experience',\n",
       " 'pay',\n",
       " '40',\n",
       " 'parking',\n",
       " 'night']"
      ]
     },
     "execution_count": 18,
     "metadata": {},
     "output_type": "execute_result"
    }
   ],
   "source": [
    "data['review_tokenize'] = data['review_nostopwords_nopunct']. apply(lambda x : word_tokenize(x)) # Used word tokenization to split everything into words\n",
    "data['review_tokenize'] [0]"
   ]
  },
  {
   "cell_type": "code",
   "execution_count": 19,
   "id": "38cbaabd-2ff1-4b37-a062-125c4f560d2d",
   "metadata": {},
   "outputs": [],
   "source": [
    "ps = PorterStemmer()\n",
    "data['stemmed'] = data['review_tokenize'].apply(lambda x : [ps.stem(token) for token in x]) # Used Stemmer to convert words to its base form (without meaning)"
   ]
  },
  {
   "cell_type": "code",
   "execution_count": 37,
   "id": "80e5d184-c316-4ab7-a90d-fb64f931b672",
   "metadata": {},
   "outputs": [],
   "source": [
    "ls = WordNetLemmatizer()\n",
    "data['lammatized'] = data['review_tokenize'].apply(lambda x : [ls.lemmatize(token) for token in x]) # Used Lemmatizer to convert words to its base form (with meaning)"
   ]
  },
  {
   "cell_type": "code",
   "execution_count": 38,
   "id": "d585961d-0dd0-4fce-85a2-c943e55cec7b",
   "metadata": {},
   "outputs": [],
   "source": [
    "token_clean = sum(data['lammatized'], [])"
   ]
  },
  {
   "cell_type": "code",
   "execution_count": 43,
   "id": "1bcba883-0d3c-4da9-97f2-5279e946f654",
   "metadata": {},
   "outputs": [
    {
     "name": "stdout",
     "output_type": "stream",
     "text": [
      "(hotel,)        293\n",
      "(room,)         278\n",
      "(great,)        127\n",
      "(not,)          123\n",
      "(stay,)          97\n",
      "               ... \n",
      "(macy,)           1\n",
      "(radius,)         1\n",
      "(cinerama,)       1\n",
      "(gourmet,)        1\n",
      "(connected,)      1\n",
      "Name: count, Length: 2484, dtype: int64\n"
     ]
    }
   ],
   "source": [
    "from nltk import ngrams\n",
    "unigrams =list(ngrams(token_clean,1))\n",
    "unigram_series = pd.Series(unigrams)\n",
    "count = unigram_series.value_counts()\n",
    "print(count)"
   ]
  },
  {
   "cell_type": "raw",
   "id": "e98a5a53-dde6-4ecf-aba6-6c67504fdbfa",
   "metadata": {},
   "source": []
  },
  {
   "cell_type": "code",
   "execution_count": 47,
   "id": "c884c515-3362-4894-ae51-ab6eed01741e",
   "metadata": {},
   "outputs": [
    {
     "data": {
      "text/plain": [
       "Text(0, 0.5, 'Frequency')"
      ]
     },
     "execution_count": 47,
     "metadata": {},
     "output_type": "execute_result"
    },
    {
     "data": {
      "image/png": "[encoded data removed]",
      "text/plain": [
       "<Figure size 640x480 with 1 Axes>"
      ]
     },
     "metadata": {},
     "output_type": "display_data"
    }
   ],
   "source": [
    "count[:10].sort_values().plot.barh(color = \"lightsalmon\",width = 0.6)\n",
    "plt.title(\"10 Most occuring words\")\n",
    "plt.xlabel(\"Words\")\n",
    "plt.ylabel(\"Frequency\")"
   ]
  },
  {
   "cell_type": "code",
   "execution_count": null,
   "id": "bb53a073-b5d9-42ff-9cec-da5c1c7f08cf",
   "metadata": {},
   "outputs": [],
   "source": []
  }
 ],
 "metadata": {
  "kernelspec": {
   "display_name": "Python (nlp_course_env)",
   "language": "python",
   "name": "nlp_course_env"
  },
  "language_info": {
   "codemirror_mode": {
    "name": "ipython",
    "version": 3
   },
   "file_extension": ".py",
   "mimetype": "text/x-python",
   "name": "python",
   "nbconvert_exporter": "python",
   "pygments_lexer": "ipython3",
   "version": "3.11.13"
  }
 },
 "nbformat": 4,
 "nbformat_minor": 5
}
